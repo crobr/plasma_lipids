{
 "cells": [
  {
   "cell_type": "code",
   "execution_count": null,
   "metadata": {},
   "outputs": [],
   "source": [
    "#libraries \n",
    "import pandas as pd\n",
    "\n",
    "from sklearn import  ensemble, model_selection, metrics\n",
    "from sklearn.model_selection import train_test_split\n",
    "from sklearn.ensemble import RandomForestClassifier, ExtraTreesClassifier, GradientBoostingClassifier\n",
    "from sklearn.metrics import RocCurveDisplay, r2_score,PredictionErrorDisplay, classification_report\n",
    "\n",
    "\n",
    "import pickle\n",
    "import csv"
   ]
  },
  {
   "cell_type": "code",
   "execution_count": 2,
   "metadata": {},
   "outputs": [],
   "source": [
    "#data_download \n",
    "L= pd.read_csv(\"lip_forfinal.csv\") #just the lipids \n",
    "Z= pd.DataFrame(pd.read_csv(\"CRvnoR_lip_forfinal.csv\")) #clinical features\n",
    "Z['response'] = Z['response'].replace('CR', 0).replace('NR', 1)\n",
    "\n",
    "y = Z['response']\n",
    "X = L\n",
    "\n",
    "SEED = 42\n",
    "\n",
    "##Train/Test\n",
    "X_train, X_test, y_train, y_test = train_test_split(X, y,  test_size=0.2, random_state=SEED,stratify=y)\n",
    "\n",
    "##apply feature pruning \n",
    "selected_features_names_CSV=open(\"20250210_pruned_features.csv\", 'r')\n",
    "file=csv.DictReader(selected_features_names_CSV)\n",
    "pruned_features= []\n",
    "for col in file:\n",
    "    pruned_features.append(col['0'])\n",
    "\n",
    "\n",
    "selected_features= X[pruned_features]\n",
    "selected_features_names = selected_features.columns.tolist()\n",
    "\n",
    "X_train_sel = X_train[selected_features_names]\n",
    "X_test_sel = X_test[selected_features_names]"
   ]
  },
  {
   "cell_type": "code",
   "execution_count": 3,
   "metadata": {},
   "outputs": [
    {
     "name": "stdout",
     "output_type": "stream",
     "text": [
      "              precision    recall  f1-score   support\n",
      "\n",
      "           0       0.97      0.86      0.91        36\n",
      "           1       0.67      0.91      0.77        11\n",
      "\n",
      "    accuracy                           0.87        47\n",
      "   macro avg       0.82      0.89      0.84        47\n",
      "weighted avg       0.90      0.87      0.88        47\n",
      "\n"
     ]
    }
   ],
   "source": [
    "# load the lipid model from pickle file\n",
    "model_pkl_file = \"20250210_Lipid_GBC_.pkl\"  \n",
    "with open(model_pkl_file, 'rb') as file:  \n",
    "    model = pickle.load(file)\n",
    "\n",
    "# evaluate model \n",
    "y_predict = model.predict(X_test_sel)\n",
    "\n",
    "# check results\n",
    "print(classification_report(y_test, y_predict))"
   ]
  },
  {
   "cell_type": "code",
   "execution_count": 5,
   "metadata": {},
   "outputs": [],
   "source": [
    "#Download the validation data \n",
    "Q2= pd.read_csv(\"Val_Col_lip_V2_adjusted___.csv\") #just the lipids \n",
    "Z2= pd.DataFrame(pd.read_csv(\"Val_Col_lip_V2_adjusted.csv\"))#clinical features\n",
    "\n",
    "Z2['response'] = Z2['response'].replace('CR', 0).replace('NR', 1)\n",
    "y2 = Z2['response']\n",
    "X2 = Q2\n",
    "\n",
    "X2_train, X2_test, y2_train, y2_test = train_test_split(X2, y2,  test_size=0.2, random_state=SEED,stratify=y2)\n",
    "\n",
    "X2_sel = X2[selected_features_names]\n",
    "\n",
    "X2_train_sel=X2_train[selected_features_names]\n",
    "X2_test_sel=X2_test[selected_features_names]\n",
    "\n"
   ]
  },
  {
   "cell_type": "code",
   "execution_count": 6,
   "metadata": {},
   "outputs": [],
   "source": [
    "classifier_output_for_survival= pd.DataFrame(model.predict_proba(X2[selected_features_names]))\n",
    "\n",
    "# classifier_output_for_survival.to_csv('20250210_classification_output_for_survival_Val.csv')\n",
    "# X_train.to_csv(\"Training_Val_20250210.csv\")\n",
    "# X_test.to_csv(\"Testing_Val_20250210.csv\")\n"
   ]
  }
 ],
 "metadata": {
  "kernelspec": {
   "display_name": "base",
   "language": "python",
   "name": "python3"
  },
  "language_info": {
   "codemirror_mode": {
    "name": "ipython",
    "version": 3
   },
   "file_extension": ".py",
   "mimetype": "text/x-python",
   "name": "python",
   "nbconvert_exporter": "python",
   "pygments_lexer": "ipython3",
   "version": "3.11.5"
  }
 },
 "nbformat": 4,
 "nbformat_minor": 2
}
