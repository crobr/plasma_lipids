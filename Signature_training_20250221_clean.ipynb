{
 "cells": [
  {
   "cell_type": "code",
   "execution_count": 7,
   "metadata": {},
   "outputs": [],
   "source": [
    "#libraries \n",
    "import seaborn as sns\n",
    "import numpy as np\n",
    "import pandas as pd\n",
    "\n",
    "from sklearn import linear_model, ensemble, model_selection, metrics, datasets\n",
    "from sklearn.model_selection import cross_val_score, train_test_split, RandomizedSearchCV, GridSearchCV, StratifiedKFold\n",
    "from sklearn.ensemble import RandomForestClassifier, ExtraTreesClassifier, GradientBoostingClassifier\n",
    "from sklearn.metrics import RocCurveDisplay, r2_score,PredictionErrorDisplay, classification_report, confusion_matrix, roc_auc_score, mean_squared_error,PrecisionRecallDisplay, average_precision_score, precision_recall_curve\n",
    "from sklearn.inspection import permutation_importance\n",
    "from sklearn.linear_model import SGDClassifier\n",
    "from itertools import cycle\n",
    "from sklearn.preprocessing import label_binarize\n",
    "\n",
    "from imblearn.over_sampling import SMOTE\n",
    "\n",
    "import matplotlib.pyplot as plt\n",
    "\n",
    "import xgboost as xgb\n",
    "from xgboost import XGBClassifier\n",
    "\n",
    "import matplotlib.pyplot as plt\n",
    "import plotly.express as px\n",
    "\n",
    "import scipy.stats as stats\n",
    "from scipy.stats import randint\n",
    "from scipy.cluster import hierarchy\n",
    "from scipy.spatial.distance import squareform\n",
    "from scipy.stats import spearmanr\n",
    "\n",
    "import pickle\n",
    "import csv\n",
    "from collections import defaultdict\n",
    "\n",
    "import os\n",
    "if not os.path.exists(\"20250108_images\"):\n",
    "    os.mkdir(\"20250108_images\") "
   ]
  },
  {
   "cell_type": "code",
   "execution_count": 3,
   "metadata": {},
   "outputs": [],
   "source": [
    "#data_download \n",
    "L= pd.read_csv(\"lip_forfinal.csv\") #just the lipids \n",
    "Z= pd.DataFrame(pd.read_csv(\"CRvnoR_lip_forfinal.csv\")) #clinical features\n",
    "Z['response'] = Z['response'].replace('CR', 0).replace('NR', 1)\n",
    "\n",
    "y = Z['response']\n",
    "X = L"
   ]
  },
  {
   "cell_type": "code",
   "execution_count": null,
   "metadata": {},
   "outputs": [],
   "source": [
    "SEED = 42\n",
    "##Train/Test\n",
    "X_train, X_test, y_train, y_test = train_test_split(X, y,  test_size=0.2, random_state=SEED,stratify=y)\n",
    "\n"
   ]
  },
  {
   "cell_type": "code",
   "execution_count": null,
   "metadata": {},
   "outputs": [],
   "source": [
    "##Identify correlated features for pruning\n",
    "\n",
    "corr = spearmanr(X).correlation\n",
    "corr = (corr + corr.T) / 2\n",
    "np.fill_diagonal(corr, 1)\n",
    "\n",
    "# Convert the correlation matrix to a distance matrix before performing hierarchical clustering using Ward's linkage.\n",
    "distance_matrix = 1 - np.abs(corr)\n",
    "dist_linkage = hierarchy.ward(squareform(distance_matrix))\n",
    "\n",
    "\n",
    "##Name features that have not been pruned\n",
    "cluster_ids = hierarchy.fcluster(dist_linkage, 1, criterion=\"distance\")\n",
    "cluster_id_to_feature_ids = defaultdict(list)\n",
    "for idx, cluster_id in enumerate(cluster_ids):\n",
    "    cluster_id_to_feature_ids[cluster_id].append(idx)\n",
    "selected_features = [v[0] for v in cluster_id_to_feature_ids.values()]\n",
    "selected_features_names = X.columns[selected_features]\n",
    "# selected_features_names_CSV=pd.DataFrame(selected_features_names) ##Save the feature list\n",
    "# selected_features_names_CSV.to_csv(\"20250210_pruned_features.csv\")\n",
    "\n",
    "selected_features_names_CSV=open(\"20250210_pruned_features.csv\", 'r')\n",
    "file=csv.DictReader(selected_features_names_CSV)\n",
    "pruned_features= []\n",
    "for col in file:\n",
    "    pruned_features.append(col['0'])\n",
    "\n",
    "selected_features= X[pruned_features]\n",
    "selected_features_names = selected_features.columns.tolist()\n"
   ]
  },
  {
   "cell_type": "code",
   "execution_count": 9,
   "metadata": {},
   "outputs": [],
   "source": [
    "##Apply feature pruning; training and testing data\n",
    "X_train_sel = X_train[selected_features_names]\n",
    "X_test_sel = X_test[selected_features_names]\n",
    "\n",
    "##Oversample the undersampled group (NR) so that the numbers are equal to CR; in training set only \n",
    "smote = SMOTE( sampling_strategy = 1.0, random_state=SEED)\n",
    "X_resampled, y_resampled = smote.fit_resample(\n",
    "    X_train_sel, y_train)"
   ]
  },
  {
   "cell_type": "code",
   "execution_count": 10,
   "metadata": {},
   "outputs": [],
   "source": [
    "#Nested cross-validation folds\n",
    "inner_cv = StratifiedKFold(n_splits=10, shuffle=True, random_state=0)\n",
    "outer_cv = StratifiedKFold(n_splits=10, shuffle=True, random_state=0)\n"
   ]
  },
  {
   "cell_type": "code",
   "execution_count": 11,
   "metadata": {},
   "outputs": [],
   "source": [
    "#Model Parameters; Set up possible values of parameters to optimize over\n",
    "param_rfc = { \n",
    "    'n_estimators': [50,100,150,200,250,300,350,400,450,500], \n",
    "    'max_features': ['sqrt', 'log2', None], \n",
    "    'max_depth': [3,5,8,10,13,15,18,20], \n",
    "    'max_leaf_nodes': [3,5,8,10,13,15,18,20,25,30,35,40,45,50], \n",
    "    'bootstrap': [True, False],\n",
    "    'warm_start': [True, False],\n",
    "    'ccp_alpha':[0, 0.0025, 0.005, 0.0075, 0.01, 0.015, 0.02, 0.025, 0.03, 0.035]\n",
    "} \n",
    "\n",
    "param_lrm={\n",
    "    'solvers' : ['newton-cg', 'lbfgs', 'liblinear', 'sag', 'saga'],\n",
    "    'penalty' : ['l2','elasticnet', 'l1'],\n",
    "    'C' : [100, 10, 1.0, 0.1, 0.01]\n",
    "}\n",
    "param_rfc2 = { \n",
    "\n",
    "    'n_estimators': [50,100,150,200,250,300,350,400,450,500], \n",
    "    'max_features': ['sqrt', 'log2', None], \n",
    "    'max_depth': [3,5,8,10,13,15,18,20], \n",
    "    'max_leaf_nodes': [3,5,8,10,13,15,18,20,25,30,35,40,45,50], \n",
    "    'warm_start': [True, False],\n",
    "    'ccp_alpha':[0, 0.0025, 0.005, 0.0075, 0.01, 0.015, 0.02, 0.025, 0.03, 0.035]\n",
    "} \n",
    "param_xgb={\n",
    "    'max_depth': [3,5,8,10,13,15,18,20], \n",
    "    'learning_rate': [0, 0.0025, 0.005, 0.0075, 0.01, 0.015, 0.02, 0.025, 0.03, 0.035,0.05,0.06,0.07,0.08,0.09,0.1],\n",
    "    'subsample':[0.5, 0.5],\n",
    "    'n_estimators': [50,100,150,200,250,300,350,400,450,500], \n",
    "}\n",
    "\n",
    "param_sgd={\n",
    "    'alpha': [1e-4, 1e-3, 1e-2, 1e-1, 1e0, 1e1, 1e2, 1e3], # learning rate\n",
    "    'max_iter': [1000], # number of epochs\n",
    "    'loss': [ 'log_loss'], # logistic regression\n",
    "    'penalty': ['l2', 'elasticnet',],\n",
    "    'n_jobs': [-1]\n",
    "}\n",
    "\n",
    "param_lrm2={\n",
    "    'solver' : ['newton-cg', 'lbfgs', 'liblinear', 'sag', 'saga'],\n",
    "    'penalty' : ['l2','elasticnet'],\n",
    "    'C' : [100, 10, 1.0, 0.1, 0.01]\n",
    "}\n",
    "lrm = linear_model.LogisticRegression(random_state=0)\n",
    "etc = ExtraTreesClassifier(random_state=0)\n",
    "gbc = GradientBoostingClassifier(random_state=0)\n",
    "rfc = RandomForestClassifier(random_state=0)\n",
    "sgd = SGDClassifier(random_state=0)\n",
    "xgb_m = XGBClassifier(random_state=0)"
   ]
  },
  {
   "cell_type": "code",
   "execution_count": null,
   "metadata": {},
   "outputs": [],
   "source": [
    "# parameter search and scoring\n",
    "#random forest\n",
    "rfc_1 = RandomizedSearchCV(estimator=rfc, param_distributions=param_rfc, cv=inner_cv, refit=True, scoring= 'f1')\n",
    "rfc_1.fit(X_resampled, y_resampled)\n",
    "non_nested_scores_rfc1 = rfc_1.best_score_\n",
    "nested_score_rfc1 = cross_val_score(rfc_1, X_resampled, y_resampled, cv=outer_cv, scoring='f1')\n",
    "\n",
    "#extra tree\n",
    "rfc_2 = RandomizedSearchCV(estimator=etc, param_distributions=param_rfc, cv=inner_cv, refit=True, scoring= 'f1')\n",
    "rfc_2.fit(X_resampled, y_resampled)\n",
    "non_nested_scores_rfc2 = rfc_2.best_score_\n",
    "nested_score_rfc2 = cross_val_score(rfc_2, X_resampled, y_resampled, cv=outer_cv, scoring='f1')\n",
    "\n",
    "#gradient boosting\n",
    "rfc_3 = RandomizedSearchCV(estimator=gbc, param_distributions=param_rfc2, cv=inner_cv, refit=True, scoring= 'f1')\n",
    "rfc_3.fit(X_resampled, y_resampled)\n",
    "non_nested_scores_rfc3 = rfc_3.best_score_\n",
    "nested_score_rfc3 = cross_val_score(rfc_3, X_resampled, y_resampled, cv=outer_cv, scoring='f1')\n",
    "\n",
    "#XGboost\n",
    "\n",
    "xgb_1 = RandomizedSearchCV(estimator=xgb_m, param_distributions=param_xgb, cv=inner_cv, refit=True, scoring= 'f1')\n",
    "xgb_1.fit(X_resampled, y_resampled)\n",
    "nested_score_xgb1= cross_val_score(xgb_1, X_resampled, y_resampled, cv=outer_cv, scoring='f1')\n",
    "\n",
    "#SGD - is this even necessary to keep at this point? \n",
    "sgb_1 = GridSearchCV(estimator=sgd, param_grid=param_sgd, cv=inner_cv, refit=True, scoring= 'f1')\n",
    "nested_score_sgb1= cross_val_score(sgb_1, X_resampled, y_resampled, cv=outer_cv, scoring='f1')\n",
    "\n",
    "#linear regression\n",
    "lrm_1 = GridSearchCV(estimator=lrm, param_grid=param_lrm2, cv=inner_cv, refit=True, scoring= 'f1')\n",
    "nested_score_lrm1 = cross_val_score(lrm_1, X_resampled, y_resampled, cv=outer_cv, scoring='f1')\n",
    "\n",
    "print(\"done\")\n",
    "\n",
    "##151 mins"
   ]
  },
  {
   "cell_type": "code",
   "execution_count": null,
   "metadata": {},
   "outputs": [
    {
     "name": "stdout",
     "output_type": "stream",
     "text": [
      "(0.9513920817369094, 0.9408264915161466, 0.9548108851557128, 0.8246809057766885, 0.9459128014077958, 0.9212748438888594)\n"
     ]
    }
   ],
   "source": [
    "#Compare results to select best score \n",
    "bench = (nested_score_rfc1.mean(), nested_score_rfc2.mean(), nested_score_rfc3.mean(), nested_score_sgb1.mean(), nested_score_xgb1.mean(), nested_score_lrm1.mean())\n",
    "print (bench)\n",
    "\n",
    "# Last result: (0.9513920817369094, 0.9408264915161466, 0.9548108851557128, 0.8246809057766885, 0.9459128014077958, 0.9212748438888594)"
   ]
  },
  {
   "cell_type": "code",
   "execution_count": null,
   "metadata": {},
   "outputs": [
    {
     "data": {
      "text/html": [
       "<style>#sk-container-id-1 {color: black;background-color: white;}#sk-container-id-1 pre{padding: 0;}#sk-container-id-1 div.sk-toggleable {background-color: white;}#sk-container-id-1 label.sk-toggleable__label {cursor: pointer;display: block;width: 100%;margin-bottom: 0;padding: 0.3em;box-sizing: border-box;text-align: center;}#sk-container-id-1 label.sk-toggleable__label-arrow:before {content: \"▸\";float: left;margin-right: 0.25em;color: #696969;}#sk-container-id-1 label.sk-toggleable__label-arrow:hover:before {color: black;}#sk-container-id-1 div.sk-estimator:hover label.sk-toggleable__label-arrow:before {color: black;}#sk-container-id-1 div.sk-toggleable__content {max-height: 0;max-width: 0;overflow: hidden;text-align: left;background-color: #f0f8ff;}#sk-container-id-1 div.sk-toggleable__content pre {margin: 0.2em;color: black;border-radius: 0.25em;background-color: #f0f8ff;}#sk-container-id-1 input.sk-toggleable__control:checked~div.sk-toggleable__content {max-height: 200px;max-width: 100%;overflow: auto;}#sk-container-id-1 input.sk-toggleable__control:checked~label.sk-toggleable__label-arrow:before {content: \"▾\";}#sk-container-id-1 div.sk-estimator input.sk-toggleable__control:checked~label.sk-toggleable__label {background-color: #d4ebff;}#sk-container-id-1 div.sk-label input.sk-toggleable__control:checked~label.sk-toggleable__label {background-color: #d4ebff;}#sk-container-id-1 input.sk-hidden--visually {border: 0;clip: rect(1px 1px 1px 1px);clip: rect(1px, 1px, 1px, 1px);height: 1px;margin: -1px;overflow: hidden;padding: 0;position: absolute;width: 1px;}#sk-container-id-1 div.sk-estimator {font-family: monospace;background-color: #f0f8ff;border: 1px dotted black;border-radius: 0.25em;box-sizing: border-box;margin-bottom: 0.5em;}#sk-container-id-1 div.sk-estimator:hover {background-color: #d4ebff;}#sk-container-id-1 div.sk-parallel-item::after {content: \"\";width: 100%;border-bottom: 1px solid gray;flex-grow: 1;}#sk-container-id-1 div.sk-label:hover label.sk-toggleable__label {background-color: #d4ebff;}#sk-container-id-1 div.sk-serial::before {content: \"\";position: absolute;border-left: 1px solid gray;box-sizing: border-box;top: 0;bottom: 0;left: 50%;z-index: 0;}#sk-container-id-1 div.sk-serial {display: flex;flex-direction: column;align-items: center;background-color: white;padding-right: 0.2em;padding-left: 0.2em;position: relative;}#sk-container-id-1 div.sk-item {position: relative;z-index: 1;}#sk-container-id-1 div.sk-parallel {display: flex;align-items: stretch;justify-content: center;background-color: white;position: relative;}#sk-container-id-1 div.sk-item::before, #sk-container-id-1 div.sk-parallel-item::before {content: \"\";position: absolute;border-left: 1px solid gray;box-sizing: border-box;top: 0;bottom: 0;left: 50%;z-index: -1;}#sk-container-id-1 div.sk-parallel-item {display: flex;flex-direction: column;z-index: 1;position: relative;background-color: white;}#sk-container-id-1 div.sk-parallel-item:first-child::after {align-self: flex-end;width: 50%;}#sk-container-id-1 div.sk-parallel-item:last-child::after {align-self: flex-start;width: 50%;}#sk-container-id-1 div.sk-parallel-item:only-child::after {width: 0;}#sk-container-id-1 div.sk-dashed-wrapped {border: 1px dashed gray;margin: 0 0.4em 0.5em 0.4em;box-sizing: border-box;padding-bottom: 0.4em;background-color: white;}#sk-container-id-1 div.sk-label label {font-family: monospace;font-weight: bold;display: inline-block;line-height: 1.2em;}#sk-container-id-1 div.sk-label-container {text-align: center;}#sk-container-id-1 div.sk-container {/* jupyter's `normalize.less` sets `[hidden] { display: none; }` but bootstrap.min.css set `[hidden] { display: none !important; }` so we also need the `!important` here to be able to override the default hidden behavior on the sphinx rendered scikit-learn.org. See: https://github.com/scikit-learn/scikit-learn/issues/21755 */display: inline-block !important;position: relative;}#sk-container-id-1 div.sk-text-repr-fallback {display: none;}</style><div id=\"sk-container-id-1\" class=\"sk-top-container\"><div class=\"sk-text-repr-fallback\"><pre>GradientBoostingClassifier(ccp_alpha=0, max_depth=10, max_features=&#x27;log2&#x27;,\n",
       "                           max_leaf_nodes=35, n_estimators=400, random_state=0,\n",
       "                           warm_start=True)</pre><b>In a Jupyter environment, please rerun this cell to show the HTML representation or trust the notebook. <br />On GitHub, the HTML representation is unable to render, please try loading this page with nbviewer.org.</b></div><div class=\"sk-container\" hidden><div class=\"sk-item\"><div class=\"sk-estimator sk-toggleable\"><input class=\"sk-toggleable__control sk-hidden--visually\" id=\"sk-estimator-id-1\" type=\"checkbox\" checked><label for=\"sk-estimator-id-1\" class=\"sk-toggleable__label sk-toggleable__label-arrow\">GradientBoostingClassifier</label><div class=\"sk-toggleable__content\"><pre>GradientBoostingClassifier(ccp_alpha=0, max_depth=10, max_features=&#x27;log2&#x27;,\n",
       "                           max_leaf_nodes=35, n_estimators=400, random_state=0,\n",
       "                           warm_start=True)</pre></div></div></div></div></div>"
      ],
      "text/plain": [
       "GradientBoostingClassifier(ccp_alpha=0, max_depth=10, max_features='log2',\n",
       "                           max_leaf_nodes=35, n_estimators=400, random_state=0,\n",
       "                           warm_start=True)"
      ]
     },
     "execution_count": 57,
     "metadata": {},
     "output_type": "execute_result"
    }
   ],
   "source": [
    "#identify the best model\n",
    "rfc_3.best_estimator_\n",
    "\n",
    "# Last result:\n",
    "# GradientBoostingClassifier(ccp_alpha=0, max_depth=10, max_features='log2',\n",
    "#                            max_leaf_nodes=35, n_estimators=400, random_state=0,\n",
    "#                            warm_start=True)"
   ]
  },
  {
   "cell_type": "code",
   "execution_count": 14,
   "metadata": {},
   "outputs": [
    {
     "name": "stdout",
     "output_type": "stream",
     "text": [
      "              precision    recall  f1-score   support\n",
      "\n",
      "           0       0.97      0.86      0.91        36\n",
      "           1       0.67      0.91      0.77        11\n",
      "\n",
      "    accuracy                           0.87        47\n",
      "   macro avg       0.82      0.89      0.84        47\n",
      "weighted avg       0.90      0.87      0.88        47\n",
      "\n"
     ]
    }
   ],
   "source": [
    "#build best model \n",
    "# model = GradientBoostingClassifier(ccp_alpha=0, max_depth=10, max_features='log2',\n",
    "#                            max_leaf_nodes=35, n_estimators=400, random_state=0,\n",
    "#                            warm_start=True)\n",
    "\n",
    "## OR load model \n",
    "\n",
    "# load the lipid model from pickle file\n",
    "model_pkl_file = \"20250210_Lipid_GBC_.pkl\"  \n",
    "with open(model_pkl_file, 'rb') as file:  \n",
    "    model = pickle.load(file)\n",
    "\n",
    "# evaluate model \n",
    "y_predict = model.predict(X_test_sel)\n",
    "\n",
    "# check results\n",
    "print(classification_report(y_test, y_predict))"
   ]
  },
  {
   "cell_type": "code",
   "execution_count": 16,
   "metadata": {},
   "outputs": [],
   "source": [
    "#Fit and evaluate best model \n",
    "model.fit(X_resampled, y_resampled)\n",
    "\n",
    "train_result = permutation_importance(\n",
    "   model , X_resampled, y_resampled, n_repeats=10, random_state=42, n_jobs=2\n",
    ")\n",
    "test_results = permutation_importance(\n",
    "    model, X_test_sel, y_test, n_repeats=10, random_state=42, n_jobs=2\n",
    ")\n",
    "sorted_importances_idx = train_result.importances_mean.argsort()"
   ]
  },
  {
   "cell_type": "code",
   "execution_count": 66,
   "metadata": {},
   "outputs": [
    {
     "data": {
      "application/vnd.plotly.v1+json": {
       "config": {
        "plotlyServerURL": "https://plot.ly"
       },
       "data": [
        {
         "alignmentgroup": "True",
         "hovertemplate": "variable=0<br>index=%{x}<br>value=%{y}<extra></extra>",
         "legendgroup": "0",
         "marker": {
          "color": "#636efa",
          "pattern": {
           "shape": ""
          }
         },
         "name": "0",
         "offsetgroup": "0",
         "orientation": "v",
         "showlegend": true,
         "textposition": "auto",
         "type": "bar",
         "x": [
          "SM.d44.1.",
          "MGDG.20.4_22.5.",
          "PC.17.0_18.1.",
          "SM.d16.2_27.0.",
          "AcCa.28.6.",
          "AcHexZyE.28.6.",
          "SM.d35.2.",
          "PC.O.36.2.",
          "MGDG.18.2_22.6.",
          "PC.17.0_18.2.",
          "PC.18.0_18.1.",
          "DG.O.13.0_19.1.",
          "LPG.18.1.",
          "ChE.18.1.",
          "MePC.40.4.",
          "DG.24.6.",
          "PC.O.37.7.",
          "CerPE.d18.1_16.0.",
          "SM.d43.3.",
          "TG.10.0_18.2_18.2.",
          "ChE.16.0.",
          "CL.P.18.0_20.4.",
          "MePC.39.4.",
          "PC.16.0_19.1.",
          "PC.O.36.8.",
          "SM.d34.2.",
          "PC.17.0_20.5.",
          "PC.49.7.",
          "PC.16.0_17.0.",
          "PC.18.0_20.2.",
          "AcCa.16.0.",
          "DG.22.6_25.4.",
          "Cer.d40.1.",
          "PC.36.3.",
          "TG.16.1_18.0_18.1.",
          "Cer.d17.0_35.1.",
          "PC.19.0_18.2.",
          "SM.d34.1.",
          "TG.16.0_18.1_18.1.",
          "DG.14.0_16.0.",
          "Hex3Cer.d18.2_16.0.",
          "AcCa.3.0.",
          "PC.O.18.4_18.0.",
          "MePC.47.6.",
          "DGDG.22.0_10.0.",
          "MePC.32.1.",
          "PC.17.0_20.4.",
          "TG.16.0_18.1_18.2.",
          "PC.34.2.",
          "PC.38.5.",
          "LPI.18.0.",
          "DG.18.1_22.6.",
          "PC.15.0_22.6.",
          "SM.t34.4.",
          "PC.O.15.1_20.5.",
          "ChE.19.4.",
          "CL.P.39.8_22.1.",
          "TG.18.0_18.1_22.6.",
          "MGDG.16.0_20.4.",
          "ChE.16.1.",
          "Cer.d18.0_24.1.",
          "PC.33.4.",
          "PC.O.13.1_22.6.",
          "PC.18.1_16.0.",
          "FA.20.0.",
          "DG.14.2_6.0.",
          "PC.O.38.5.",
          "PC.19.0_18.1.",
          "PC.O.38.8.",
          "Cer.d16.0_22.0.",
          "DAP.O.14.0_O.6.0.",
          "PC.17.0_20.3.",
          "SM.d18.1_24.1.",
          "LPC.18.0.",
          "PC.O.16.0_18.2.",
          "DG.O.18.4_18.2.",
          "DG.11.0_16.0.",
          "CL.O.33.4_20.4.",
          "PC.16.0_22.5.",
          "TG.15.0_24.0_16.1.",
          "GD3.d34.1..2H",
          "Cer.d18.2_33.4.",
          "PC.16.1_18.3.",
          "OAHFA.28.3_24.7.",
          "FA.21.0.",
          "MePC.46.4.",
          "PC.18.0_19.2.",
          "SM.d42.3.",
          "Cer.d18.1_22.0.",
          "MePC.34.4.",
          "Hex2Cer.d16.0_17.1.",
          "SM.d41.2.",
          "PC.17.0_22.6.",
          "Cer.d45.5.",
          "PC.O.16.0_17.0.",
          "FA.18.2.",
          "PC.O.14.0_20.4.",
          "TG.18.1_18.2_18.3.",
          "PC.37.0.",
          "TG.18.1_18.2_20.4."
         ],
         "xaxis": "x",
         "y": [
          0.0699181137323766,
          0.057984919644674594,
          0.057294389496230454,
          0.05604449689635584,
          0.04990451043100264,
          0.03606395688877694,
          0.03494293377059473,
          0.023650019686270826,
          0.023283619879786173,
          0.022917461999997613,
          0.020135254851656785,
          0.019408641756179647,
          0.015084825691064493,
          0.014208699825251934,
          0.013464118559456652,
          0.013277143824266644,
          0.011403009898273062,
          0.011066746618864405,
          0.010664403594729659,
          0.010364762449904617,
          0.009918888941582762,
          0.009495576012389453,
          0.009377315473213887,
          0.009319809094590504,
          0.008981571885244476,
          0.008631802096161358,
          0.007421839751952627,
          0.00722273750355411,
          0.0072030274706139565,
          0.007035997725117387,
          0.006959425899572409,
          0.006940193301700545,
          0.006629624951972656,
          0.006473751572975929,
          0.006369300314558055,
          0.00598798970412153,
          0.005668764259602387,
          0.005608980136393944,
          0.005534671684787016,
          0.0054241123544818024,
          0.005229836892504069,
          0.0052242748226145165,
          0.005149570575809818,
          0.004915228683595964,
          0.004826239877455428,
          0.004701651744778978,
          0.004700121275765115,
          0.004578838105500073,
          0.004535812084073021,
          0.004507014419862919,
          0.0040685705460819475,
          0.004022565789846967,
          0.003961715402255675,
          0.003932422716428784,
          0.003908013495714568,
          0.0038193039368104756,
          0.003786234376276779,
          0.0037852538188633926,
          0.003671738286800806,
          0.0036428133222641324,
          0.0036236057671529282,
          0.0035780888610658077,
          0.0035177504628909617,
          0.0035022533159919174,
          0.00327671726029328,
          0.0031925387269704964,
          0.0031556814378069296,
          0.0031494910008055864,
          0.003122919296139659,
          0.0030187397381807464,
          0.0030119927622894497,
          0.0030065139306492896,
          0.002998501648533764,
          0.0029911220611796067,
          0.002935446484349663,
          0.002887869876266211,
          0.0028873646337257827,
          0.0026587467446228747,
          0.0026303773192348635,
          0.002623997305914032,
          0.002600725494517011,
          0.0025801238721674443,
          0.0025775994176780925,
          0.002539536581186843,
          0.002536429165715237,
          0.002425429612868492,
          0.0024157261599345023,
          0.002412951860240459,
          0.002314853290314316,
          0.002226116652744743,
          0.002174739327170232,
          0.002124982014963416,
          0.0021073803921104013,
          0.002077023422966943,
          0.002041493877973738,
          0.0020124066977499585,
          0.001948034352523086,
          0.001939277008149588,
          0.0019083012398276526,
          0.0019025289353876154
         ],
         "yaxis": "y"
        }
       ],
       "layout": {
        "barmode": "relative",
        "legend": {
         "title": {
          "text": "variable"
         },
         "tracegroupgap": 0
        },
        "margin": {
         "t": 60
        },
        "template": {
         "data": {
          "bar": [
           {
            "error_x": {
             "color": "#2a3f5f"
            },
            "error_y": {
             "color": "#2a3f5f"
            },
            "marker": {
             "line": {
              "color": "#E5ECF6",
              "width": 0.5
             },
             "pattern": {
              "fillmode": "overlay",
              "size": 10,
              "solidity": 0.2
             }
            },
            "type": "bar"
           }
          ],
          "barpolar": [
           {
            "marker": {
             "line": {
              "color": "#E5ECF6",
              "width": 0.5
             },
             "pattern": {
              "fillmode": "overlay",
              "size": 10,
              "solidity": 0.2
             }
            },
            "type": "barpolar"
           }
          ],
          "carpet": [
           {
            "aaxis": {
             "endlinecolor": "#2a3f5f",
             "gridcolor": "white",
             "linecolor": "white",
             "minorgridcolor": "white",
             "startlinecolor": "#2a3f5f"
            },
            "baxis": {
             "endlinecolor": "#2a3f5f",
             "gridcolor": "white",
             "linecolor": "white",
             "minorgridcolor": "white",
             "startlinecolor": "#2a3f5f"
            },
            "type": "carpet"
           }
          ],
          "choropleth": [
           {
            "colorbar": {
             "outlinewidth": 0,
             "ticks": ""
            },
            "type": "choropleth"
           }
          ],
          "contour": [
           {
            "colorbar": {
             "outlinewidth": 0,
             "ticks": ""
            },
            "colorscale": [
             [
              0,
              "#0d0887"
             ],
             [
              0.1111111111111111,
              "#46039f"
             ],
             [
              0.2222222222222222,
              "#7201a8"
             ],
             [
              0.3333333333333333,
              "#9c179e"
             ],
             [
              0.4444444444444444,
              "#bd3786"
             ],
             [
              0.5555555555555556,
              "#d8576b"
             ],
             [
              0.6666666666666666,
              "#ed7953"
             ],
             [
              0.7777777777777778,
              "#fb9f3a"
             ],
             [
              0.8888888888888888,
              "#fdca26"
             ],
             [
              1,
              "#f0f921"
             ]
            ],
            "type": "contour"
           }
          ],
          "contourcarpet": [
           {
            "colorbar": {
             "outlinewidth": 0,
             "ticks": ""
            },
            "type": "contourcarpet"
           }
          ],
          "heatmap": [
           {
            "colorbar": {
             "outlinewidth": 0,
             "ticks": ""
            },
            "colorscale": [
             [
              0,
              "#0d0887"
             ],
             [
              0.1111111111111111,
              "#46039f"
             ],
             [
              0.2222222222222222,
              "#7201a8"
             ],
             [
              0.3333333333333333,
              "#9c179e"
             ],
             [
              0.4444444444444444,
              "#bd3786"
             ],
             [
              0.5555555555555556,
              "#d8576b"
             ],
             [
              0.6666666666666666,
              "#ed7953"
             ],
             [
              0.7777777777777778,
              "#fb9f3a"
             ],
             [
              0.8888888888888888,
              "#fdca26"
             ],
             [
              1,
              "#f0f921"
             ]
            ],
            "type": "heatmap"
           }
          ],
          "heatmapgl": [
           {
            "colorbar": {
             "outlinewidth": 0,
             "ticks": ""
            },
            "colorscale": [
             [
              0,
              "#0d0887"
             ],
             [
              0.1111111111111111,
              "#46039f"
             ],
             [
              0.2222222222222222,
              "#7201a8"
             ],
             [
              0.3333333333333333,
              "#9c179e"
             ],
             [
              0.4444444444444444,
              "#bd3786"
             ],
             [
              0.5555555555555556,
              "#d8576b"
             ],
             [
              0.6666666666666666,
              "#ed7953"
             ],
             [
              0.7777777777777778,
              "#fb9f3a"
             ],
             [
              0.8888888888888888,
              "#fdca26"
             ],
             [
              1,
              "#f0f921"
             ]
            ],
            "type": "heatmapgl"
           }
          ],
          "histogram": [
           {
            "marker": {
             "pattern": {
              "fillmode": "overlay",
              "size": 10,
              "solidity": 0.2
             }
            },
            "type": "histogram"
           }
          ],
          "histogram2d": [
           {
            "colorbar": {
             "outlinewidth": 0,
             "ticks": ""
            },
            "colorscale": [
             [
              0,
              "#0d0887"
             ],
             [
              0.1111111111111111,
              "#46039f"
             ],
             [
              0.2222222222222222,
              "#7201a8"
             ],
             [
              0.3333333333333333,
              "#9c179e"
             ],
             [
              0.4444444444444444,
              "#bd3786"
             ],
             [
              0.5555555555555556,
              "#d8576b"
             ],
             [
              0.6666666666666666,
              "#ed7953"
             ],
             [
              0.7777777777777778,
              "#fb9f3a"
             ],
             [
              0.8888888888888888,
              "#fdca26"
             ],
             [
              1,
              "#f0f921"
             ]
            ],
            "type": "histogram2d"
           }
          ],
          "histogram2dcontour": [
           {
            "colorbar": {
             "outlinewidth": 0,
             "ticks": ""
            },
            "colorscale": [
             [
              0,
              "#0d0887"
             ],
             [
              0.1111111111111111,
              "#46039f"
             ],
             [
              0.2222222222222222,
              "#7201a8"
             ],
             [
              0.3333333333333333,
              "#9c179e"
             ],
             [
              0.4444444444444444,
              "#bd3786"
             ],
             [
              0.5555555555555556,
              "#d8576b"
             ],
             [
              0.6666666666666666,
              "#ed7953"
             ],
             [
              0.7777777777777778,
              "#fb9f3a"
             ],
             [
              0.8888888888888888,
              "#fdca26"
             ],
             [
              1,
              "#f0f921"
             ]
            ],
            "type": "histogram2dcontour"
           }
          ],
          "mesh3d": [
           {
            "colorbar": {
             "outlinewidth": 0,
             "ticks": ""
            },
            "type": "mesh3d"
           }
          ],
          "parcoords": [
           {
            "line": {
             "colorbar": {
              "outlinewidth": 0,
              "ticks": ""
             }
            },
            "type": "parcoords"
           }
          ],
          "pie": [
           {
            "automargin": true,
            "type": "pie"
           }
          ],
          "scatter": [
           {
            "fillpattern": {
             "fillmode": "overlay",
             "size": 10,
             "solidity": 0.2
            },
            "type": "scatter"
           }
          ],
          "scatter3d": [
           {
            "line": {
             "colorbar": {
              "outlinewidth": 0,
              "ticks": ""
             }
            },
            "marker": {
             "colorbar": {
              "outlinewidth": 0,
              "ticks": ""
             }
            },
            "type": "scatter3d"
           }
          ],
          "scattercarpet": [
           {
            "marker": {
             "colorbar": {
              "outlinewidth": 0,
              "ticks": ""
             }
            },
            "type": "scattercarpet"
           }
          ],
          "scattergeo": [
           {
            "marker": {
             "colorbar": {
              "outlinewidth": 0,
              "ticks": ""
             }
            },
            "type": "scattergeo"
           }
          ],
          "scattergl": [
           {
            "marker": {
             "colorbar": {
              "outlinewidth": 0,
              "ticks": ""
             }
            },
            "type": "scattergl"
           }
          ],
          "scattermapbox": [
           {
            "marker": {
             "colorbar": {
              "outlinewidth": 0,
              "ticks": ""
             }
            },
            "type": "scattermapbox"
           }
          ],
          "scatterpolar": [
           {
            "marker": {
             "colorbar": {
              "outlinewidth": 0,
              "ticks": ""
             }
            },
            "type": "scatterpolar"
           }
          ],
          "scatterpolargl": [
           {
            "marker": {
             "colorbar": {
              "outlinewidth": 0,
              "ticks": ""
             }
            },
            "type": "scatterpolargl"
           }
          ],
          "scatterternary": [
           {
            "marker": {
             "colorbar": {
              "outlinewidth": 0,
              "ticks": ""
             }
            },
            "type": "scatterternary"
           }
          ],
          "surface": [
           {
            "colorbar": {
             "outlinewidth": 0,
             "ticks": ""
            },
            "colorscale": [
             [
              0,
              "#0d0887"
             ],
             [
              0.1111111111111111,
              "#46039f"
             ],
             [
              0.2222222222222222,
              "#7201a8"
             ],
             [
              0.3333333333333333,
              "#9c179e"
             ],
             [
              0.4444444444444444,
              "#bd3786"
             ],
             [
              0.5555555555555556,
              "#d8576b"
             ],
             [
              0.6666666666666666,
              "#ed7953"
             ],
             [
              0.7777777777777778,
              "#fb9f3a"
             ],
             [
              0.8888888888888888,
              "#fdca26"
             ],
             [
              1,
              "#f0f921"
             ]
            ],
            "type": "surface"
           }
          ],
          "table": [
           {
            "cells": {
             "fill": {
              "color": "#EBF0F8"
             },
             "line": {
              "color": "white"
             }
            },
            "header": {
             "fill": {
              "color": "#C8D4E3"
             },
             "line": {
              "color": "white"
             }
            },
            "type": "table"
           }
          ]
         },
         "layout": {
          "annotationdefaults": {
           "arrowcolor": "#2a3f5f",
           "arrowhead": 0,
           "arrowwidth": 1
          },
          "autotypenumbers": "strict",
          "coloraxis": {
           "colorbar": {
            "outlinewidth": 0,
            "ticks": ""
           }
          },
          "colorscale": {
           "diverging": [
            [
             0,
             "#8e0152"
            ],
            [
             0.1,
             "#c51b7d"
            ],
            [
             0.2,
             "#de77ae"
            ],
            [
             0.3,
             "#f1b6da"
            ],
            [
             0.4,
             "#fde0ef"
            ],
            [
             0.5,
             "#f7f7f7"
            ],
            [
             0.6,
             "#e6f5d0"
            ],
            [
             0.7,
             "#b8e186"
            ],
            [
             0.8,
             "#7fbc41"
            ],
            [
             0.9,
             "#4d9221"
            ],
            [
             1,
             "#276419"
            ]
           ],
           "sequential": [
            [
             0,
             "#0d0887"
            ],
            [
             0.1111111111111111,
             "#46039f"
            ],
            [
             0.2222222222222222,
             "#7201a8"
            ],
            [
             0.3333333333333333,
             "#9c179e"
            ],
            [
             0.4444444444444444,
             "#bd3786"
            ],
            [
             0.5555555555555556,
             "#d8576b"
            ],
            [
             0.6666666666666666,
             "#ed7953"
            ],
            [
             0.7777777777777778,
             "#fb9f3a"
            ],
            [
             0.8888888888888888,
             "#fdca26"
            ],
            [
             1,
             "#f0f921"
            ]
           ],
           "sequentialminus": [
            [
             0,
             "#0d0887"
            ],
            [
             0.1111111111111111,
             "#46039f"
            ],
            [
             0.2222222222222222,
             "#7201a8"
            ],
            [
             0.3333333333333333,
             "#9c179e"
            ],
            [
             0.4444444444444444,
             "#bd3786"
            ],
            [
             0.5555555555555556,
             "#d8576b"
            ],
            [
             0.6666666666666666,
             "#ed7953"
            ],
            [
             0.7777777777777778,
             "#fb9f3a"
            ],
            [
             0.8888888888888888,
             "#fdca26"
            ],
            [
             1,
             "#f0f921"
            ]
           ]
          },
          "colorway": [
           "#636efa",
           "#EF553B",
           "#00cc96",
           "#ab63fa",
           "#FFA15A",
           "#19d3f3",
           "#FF6692",
           "#B6E880",
           "#FF97FF",
           "#FECB52"
          ],
          "font": {
           "color": "#2a3f5f"
          },
          "geo": {
           "bgcolor": "white",
           "lakecolor": "white",
           "landcolor": "#E5ECF6",
           "showlakes": true,
           "showland": true,
           "subunitcolor": "white"
          },
          "hoverlabel": {
           "align": "left"
          },
          "hovermode": "closest",
          "mapbox": {
           "style": "light"
          },
          "paper_bgcolor": "white",
          "plot_bgcolor": "#E5ECF6",
          "polar": {
           "angularaxis": {
            "gridcolor": "white",
            "linecolor": "white",
            "ticks": ""
           },
           "bgcolor": "#E5ECF6",
           "radialaxis": {
            "gridcolor": "white",
            "linecolor": "white",
            "ticks": ""
           }
          },
          "scene": {
           "xaxis": {
            "backgroundcolor": "#E5ECF6",
            "gridcolor": "white",
            "gridwidth": 2,
            "linecolor": "white",
            "showbackground": true,
            "ticks": "",
            "zerolinecolor": "white"
           },
           "yaxis": {
            "backgroundcolor": "#E5ECF6",
            "gridcolor": "white",
            "gridwidth": 2,
            "linecolor": "white",
            "showbackground": true,
            "ticks": "",
            "zerolinecolor": "white"
           },
           "zaxis": {
            "backgroundcolor": "#E5ECF6",
            "gridcolor": "white",
            "gridwidth": 2,
            "linecolor": "white",
            "showbackground": true,
            "ticks": "",
            "zerolinecolor": "white"
           }
          },
          "shapedefaults": {
           "line": {
            "color": "#2a3f5f"
           }
          },
          "ternary": {
           "aaxis": {
            "gridcolor": "white",
            "linecolor": "white",
            "ticks": ""
           },
           "baxis": {
            "gridcolor": "white",
            "linecolor": "white",
            "ticks": ""
           },
           "bgcolor": "#E5ECF6",
           "caxis": {
            "gridcolor": "white",
            "linecolor": "white",
            "ticks": ""
           }
          },
          "title": {
           "x": 0.05
          },
          "xaxis": {
           "automargin": true,
           "gridcolor": "white",
           "linecolor": "white",
           "ticks": "",
           "title": {
            "standoff": 15
           },
           "zerolinecolor": "white",
           "zerolinewidth": 2
          },
          "yaxis": {
           "automargin": true,
           "gridcolor": "white",
           "linecolor": "white",
           "ticks": "",
           "title": {
            "standoff": 15
           },
           "zerolinecolor": "white",
           "zerolinewidth": 2
          }
         }
        },
        "xaxis": {
         "anchor": "y",
         "domain": [
          0,
          1
         ],
         "title": {
          "text": "index"
         }
        },
        "yaxis": {
         "anchor": "x",
         "domain": [
          0,
          1
         ],
         "title": {
          "text": "value"
         }
        }
       }
      }
     },
     "metadata": {},
     "output_type": "display_data"
    }
   ],
   "source": [
    "##Feature importance for the final model\n",
    "\n",
    "feature_names = X_resampled.columns\n",
    "\n",
    "coefs = pd.DataFrame(\n",
    "    model.feature_importances_,\n",
    "    columns=[\"Coefficients\"],\n",
    "    index=feature_names,\n",
    ")\n",
    "features=[]\n",
    "ft_importances = pd.Series(model.feature_importances_, index = X_resampled.columns.values).sort_values(ascending=False)\n",
    "\n",
    "for i,v in enumerate(ft_importances):\n",
    "    features.append ('Feature: %0d, Score: %.5f' %(i,v))\n",
    "xx3=pd.DataFrame(features)\n",
    "\n",
    "fig2= px.bar(ft_importances.head(100))\n",
    "fig2.show()\n",
    "\n",
    "#Feature importance permutation\n",
    "train_importances = pd.DataFrame(\n",
    "    train_result.importances[sorted_importances_idx].T,\n",
    "    columns=X.columns[sorted_importances_idx],\n",
    ")\n",
    "test_importances = pd.DataFrame(\n",
    "    test_results.importances[sorted_importances_idx].T,\n",
    "    columns=X.columns[sorted_importances_idx],\n",
    ")\n",
    "\n",
    "# ##Important features from test importances\n",
    "# ax2 = test_importances.plot.box(vert=False, whis=10)\n",
    "# ax2.set_title(\"Permutation Importances (test set)\")\n",
    "\n",
    "# fig2.write_image(\"20250210_images/Important_Features_20250214.png\")\n"
   ]
  },
  {
   "cell_type": "code",
   "execution_count": null,
   "metadata": {},
   "outputs": [],
   "source": [
    "\n",
    "classifier_output_for_survival= pd.DataFrame(model.predict_proba(X[selected_features_names]))\n",
    "\n",
    "# ##Save the data\n",
    "\n",
    "# train_importances.to_csv ('20250210_lip_features_train_.csv', index=False)\n",
    "# coefs.to_csv('20250210_lip_coefs_.csv',index=False)\n",
    "# test_importances.to_csv('20250210_lip_features_test_2.csv', index=False)\n",
    "# ft_importances.to_csv('20250210_lip_ft_importance_.csv')\n",
    "# classifier_output_for_survival.to_csv('20250210_classification_output_for_survival_ALL.csv')\n",
    "# X_train.to_csv(\"Training_20250210.csv\")\n",
    "# X_test.to_csv(\"Testing_20250210.csv\")\n"
   ]
  },
  {
   "cell_type": "code",
   "execution_count": 13,
   "metadata": {},
   "outputs": [
    {
     "data": {
      "image/png": "[encoded data removed]",
      "text/plain": [
       "<Figure size 640x480 with 1 Axes>"
      ]
     },
     "metadata": {},
     "output_type": "display_data"
    }
   ],
   "source": [
    "##ROC\n",
    "fig, ax2 = plt.subplots()\n",
    "ax2 = plt.gca()\n",
    "rfc_disp = RocCurveDisplay.from_estimator(model, X_test_sel, y_test, ax=ax2, alpha=0.8, name=\"Lipid features\")\n",
    "plt.show()\n",
    "# fig.savefig(\"20250108_images/ROC_test_train.png\")"
   ]
  },
  {
   "cell_type": "code",
   "execution_count": null,
   "metadata": {},
   "outputs": [],
   "source": [
    "# # save the lipid classification model as a pickle file\n",
    "\n",
    "# model_pkl_file = \"20250210_Lipid_GBC_.pkl\"  \n",
    "\n",
    "# with open(model_pkl_file, 'wb') as file:  \n",
    "#     pickle.dump(model, file)"
   ]
  },
  {
   "cell_type": "code",
   "execution_count": 19,
   "metadata": {},
   "outputs": [],
   "source": [
    "##lipids with clinical features \n",
    "#data_download \n",
    "LC= pd.read_csv(\"lip_plusclin_forfinal.csv\") #Lipids with clinical features\n",
    "\n",
    "yA = Z['response']\n",
    "XA = LC"
   ]
  },
  {
   "cell_type": "code",
   "execution_count": 20,
   "metadata": {},
   "outputs": [],
   "source": [
    "##Train/Test\n",
    "XA_train, XA_test, yA_train, yA_test = train_test_split(XA, yA,  test_size=0.2, random_state=SEED,stratify=yA)\n"
   ]
  },
  {
   "cell_type": "code",
   "execution_count": null,
   "metadata": {},
   "outputs": [],
   "source": [
    "##Identify correlated features for pruning\n",
    "from collections import defaultdict\n",
    "corrA = spearmanr(XA).correlation\n",
    "corrA = (corrA + corrA.T) / 2\n",
    "np.fill_diagonal(corrA, 1)\n",
    "\n",
    "# Convert the correlation matrix to a distance matrix before performing hierarchical clustering using Ward's linkage.\n",
    "distance_matrixA = 1 - np.abs(corrA)\n",
    "dist_linkageA = hierarchy.ward(squareform(distance_matrixA))\n",
    "\n",
    "\n",
    "##Name features that have not been pruned\n",
    "cluster_idsA = hierarchy.fcluster(dist_linkageA, 1, criterion=\"distance\")\n",
    "cluster_id_to_feature_idsA = defaultdict(list)\n",
    "for idx, cluster_idA in enumerate(cluster_idsA):\n",
    "    cluster_id_to_feature_idsA[cluster_idA].append(idx)\n",
    "selected_featuresA = [v[0] for v in cluster_id_to_feature_idsA.values()]\n",
    "selected_features_namesA = X.columns[selected_featuresA]\n",
    "\n",
    "# selected_features_names_lipclin_CSV=pd.DataFrame(selected_features_names) ##Save the feature list\n",
    "# selected_features_names_lipclin_CSV.to_csv(\"20250210_pruned_features_lipclin.csv\")\n",
    "\n",
    "selected_features_namesA_CSV=open(\"20250210_pruned_features_lipclin.csv\", 'r')\n",
    "fileA=csv.DictReader(selected_features_namesA_CSV)\n",
    "pruned_featuresA= []\n",
    "for col in fileA:\n",
    "    pruned_featuresA.append(col['0'])\n",
    "\n",
    "selected_featuresA= XA[pruned_featuresA]\n",
    "selected_features_namesA = selected_featuresA.columns.tolist()\n"
   ]
  },
  {
   "cell_type": "code",
   "execution_count": 78,
   "metadata": {},
   "outputs": [],
   "source": [
    "##Apply feature pruning; training and testing data\n",
    "XA_train_sel = XA_train[selected_features_namesA]\n",
    "XA_test_sel = XA_test[selected_features_namesA]\n",
    "\n",
    "##Oversample the undersampled group (NR) so that the numbers are equal to CR; in training set only \n",
    "XA_resampled, yA_resampled = smote.fit_resample(\n",
    "    XA_train_sel, yA_train)"
   ]
  },
  {
   "cell_type": "code",
   "execution_count": null,
   "metadata": {},
   "outputs": [
    {
     "name": "stdout",
     "output_type": "stream",
     "text": [
      "1\n",
      "2\n",
      "3\n"
     ]
    }
   ],
   "source": [
    "# parameter search and scoring\n",
    "#random forest\n",
    "rfc_1A = RandomizedSearchCV(estimator=rfc, param_distributions=param_rfc, cv=inner_cv, refit=True, scoring= 'f1')\n",
    "rfc_1A.fit(XA_resampled, yA_resampled)\n",
    "nested_score_rfc1A = cross_val_score(rfc_1A, XA_resampled, yA_resampled, cv=outer_cv, scoring='f1')\n",
    "\n",
    "#extra tree\n",
    "rfc_2A = RandomizedSearchCV(estimator=etc, param_distributions=param_rfc, cv=inner_cv, refit=True, scoring= 'f1')\n",
    "rfc_2A.fit(XA_resampled, yA_resampled)\n",
    "nested_score_rfc2A = cross_val_score(rfc_2A, XA_resampled, yA_resampled, cv=outer_cv, scoring='f1')\n",
    "\n",
    "#gradient boosting\n",
    "rfc_3A = RandomizedSearchCV(estimator=gbc, param_distributions=param_rfc2, cv=inner_cv, refit=True, scoring= 'f1')\n",
    "rfc_3A.fit(XA_resampled, yA_resampled)\n",
    "nested_score_rfc3A = cross_val_score(rfc_3A, XA_resampled, yA_resampled, cv=outer_cv, scoring='f1')\n",
    "\n",
    "# #XGboost\n",
    "xgb_1A = RandomizedSearchCV(estimator=xgb_m, param_distributions=param_xgb, cv=inner_cv, refit=True, scoring= 'f1')\n",
    "xgb_1A.fit(XA_resampled, yA_resampled)\n",
    "nested_score_xgb1A= cross_val_score(xgb_1A, XA_resampled, yA_resampled, cv=outer_cv, scoring='f1')\n",
    "\n",
    "# #linear regression\n",
    "lrm_1A = GridSearchCV(estimator=lrm, param_grid=param_lrm2, cv=inner_cv, refit=True, scoring= 'f1')\n",
    "nested_score_lrm1A = cross_val_score(lrm_1A, XA_resampled, yA_resampled, cv=outer_cv, scoring='f1')\n",
    "##117 mins"
   ]
  },
  {
   "cell_type": "code",
   "execution_count": null,
   "metadata": {},
   "outputs": [
    {
     "name": "stdout",
     "output_type": "stream",
     "text": [
      "(0.9442492245940521, 0.9513920817369094, 0.9340549169859514)\n"
     ]
    }
   ],
   "source": [
    "bench1A = (nested_score_rfc1A.mean(),nested_score_rfc2A.mean(),nested_score_rfc3A.mean(),nested_score_lrm1A.mean(),nested_score_xgb1A.mean())\n",
    "\n",
    "print(bench1A)\n",
    "##Last result(0.9442492245940521, 0.9513920817369094, 0.9340549169859514, 0.9417971173143587, 0.9560277439365314)"
   ]
  },
  {
   "cell_type": "code",
   "execution_count": null,
   "metadata": {},
   "outputs": [
    {
     "data": {
      "text/html": [
       "<style>#sk-container-id-1 {color: black;background-color: white;}#sk-container-id-1 pre{padding: 0;}#sk-container-id-1 div.sk-toggleable {background-color: white;}#sk-container-id-1 label.sk-toggleable__label {cursor: pointer;display: block;width: 100%;margin-bottom: 0;padding: 0.3em;box-sizing: border-box;text-align: center;}#sk-container-id-1 label.sk-toggleable__label-arrow:before {content: \"▸\";float: left;margin-right: 0.25em;color: #696969;}#sk-container-id-1 label.sk-toggleable__label-arrow:hover:before {color: black;}#sk-container-id-1 div.sk-estimator:hover label.sk-toggleable__label-arrow:before {color: black;}#sk-container-id-1 div.sk-toggleable__content {max-height: 0;max-width: 0;overflow: hidden;text-align: left;background-color: #f0f8ff;}#sk-container-id-1 div.sk-toggleable__content pre {margin: 0.2em;color: black;border-radius: 0.25em;background-color: #f0f8ff;}#sk-container-id-1 input.sk-toggleable__control:checked~div.sk-toggleable__content {max-height: 200px;max-width: 100%;overflow: auto;}#sk-container-id-1 input.sk-toggleable__control:checked~label.sk-toggleable__label-arrow:before {content: \"▾\";}#sk-container-id-1 div.sk-estimator input.sk-toggleable__control:checked~label.sk-toggleable__label {background-color: #d4ebff;}#sk-container-id-1 div.sk-label input.sk-toggleable__control:checked~label.sk-toggleable__label {background-color: #d4ebff;}#sk-container-id-1 input.sk-hidden--visually {border: 0;clip: rect(1px 1px 1px 1px);clip: rect(1px, 1px, 1px, 1px);height: 1px;margin: -1px;overflow: hidden;padding: 0;position: absolute;width: 1px;}#sk-container-id-1 div.sk-estimator {font-family: monospace;background-color: #f0f8ff;border: 1px dotted black;border-radius: 0.25em;box-sizing: border-box;margin-bottom: 0.5em;}#sk-container-id-1 div.sk-estimator:hover {background-color: #d4ebff;}#sk-container-id-1 div.sk-parallel-item::after {content: \"\";width: 100%;border-bottom: 1px solid gray;flex-grow: 1;}#sk-container-id-1 div.sk-label:hover label.sk-toggleable__label {background-color: #d4ebff;}#sk-container-id-1 div.sk-serial::before {content: \"\";position: absolute;border-left: 1px solid gray;box-sizing: border-box;top: 0;bottom: 0;left: 50%;z-index: 0;}#sk-container-id-1 div.sk-serial {display: flex;flex-direction: column;align-items: center;background-color: white;padding-right: 0.2em;padding-left: 0.2em;position: relative;}#sk-container-id-1 div.sk-item {position: relative;z-index: 1;}#sk-container-id-1 div.sk-parallel {display: flex;align-items: stretch;justify-content: center;background-color: white;position: relative;}#sk-container-id-1 div.sk-item::before, #sk-container-id-1 div.sk-parallel-item::before {content: \"\";position: absolute;border-left: 1px solid gray;box-sizing: border-box;top: 0;bottom: 0;left: 50%;z-index: -1;}#sk-container-id-1 div.sk-parallel-item {display: flex;flex-direction: column;z-index: 1;position: relative;background-color: white;}#sk-container-id-1 div.sk-parallel-item:first-child::after {align-self: flex-end;width: 50%;}#sk-container-id-1 div.sk-parallel-item:last-child::after {align-self: flex-start;width: 50%;}#sk-container-id-1 div.sk-parallel-item:only-child::after {width: 0;}#sk-container-id-1 div.sk-dashed-wrapped {border: 1px dashed gray;margin: 0 0.4em 0.5em 0.4em;box-sizing: border-box;padding-bottom: 0.4em;background-color: white;}#sk-container-id-1 div.sk-label label {font-family: monospace;font-weight: bold;display: inline-block;line-height: 1.2em;}#sk-container-id-1 div.sk-label-container {text-align: center;}#sk-container-id-1 div.sk-container {/* jupyter's `normalize.less` sets `[hidden] { display: none; }` but bootstrap.min.css set `[hidden] { display: none !important; }` so we also need the `!important` here to be able to override the default hidden behavior on the sphinx rendered scikit-learn.org. See: https://github.com/scikit-learn/scikit-learn/issues/21755 */display: inline-block !important;position: relative;}#sk-container-id-1 div.sk-text-repr-fallback {display: none;}</style><div id=\"sk-container-id-1\" class=\"sk-top-container\"><div class=\"sk-text-repr-fallback\"><pre>ExtraTreesClassifier(ccp_alpha=0.005, max_depth=20, max_leaf_nodes=25,\n",
       "                     n_estimators=500, random_state=0)</pre><b>In a Jupyter environment, please rerun this cell to show the HTML representation or trust the notebook. <br />On GitHub, the HTML representation is unable to render, please try loading this page with nbviewer.org.</b></div><div class=\"sk-container\" hidden><div class=\"sk-item\"><div class=\"sk-estimator sk-toggleable\"><input class=\"sk-toggleable__control sk-hidden--visually\" id=\"sk-estimator-id-1\" type=\"checkbox\" checked><label for=\"sk-estimator-id-1\" class=\"sk-toggleable__label sk-toggleable__label-arrow\">ExtraTreesClassifier</label><div class=\"sk-toggleable__content\"><pre>ExtraTreesClassifier(ccp_alpha=0.005, max_depth=20, max_leaf_nodes=25,\n",
       "                     n_estimators=500, random_state=0)</pre></div></div></div></div></div>"
      ],
      "text/plain": [
       "ExtraTreesClassifier(ccp_alpha=0.005, max_depth=20, max_leaf_nodes=25,\n",
       "                     n_estimators=500, random_state=0)"
      ]
     },
     "execution_count": 26,
     "metadata": {},
     "output_type": "execute_result"
    }
   ],
   "source": [
    "rfc_2A.best_estimator_\n",
    "\n",
    "# Last result: \n",
    "# ExtraTreesClassifier(bootstrap=True, ccp_alpha=0.01, max_depth=20,\n",
    "#                      max_features='log2', max_leaf_nodes=35, n_estimators=400,\n",
    "#                      random_state=0, warm_start=True)"
   ]
  },
  {
   "cell_type": "code",
   "execution_count": 111,
   "metadata": {},
   "outputs": [
    {
     "name": "stdout",
     "output_type": "stream",
     "text": [
      "              precision    recall  f1-score   support\n",
      "\n",
      "           0       0.94      0.86      0.90        36\n",
      "           1       0.64      0.82      0.72        11\n",
      "\n",
      "    accuracy                           0.85        47\n",
      "   macro avg       0.79      0.84      0.81        47\n",
      "weighted avg       0.87      0.85      0.86        47\n",
      "\n"
     ]
    }
   ],
   "source": [
    "# model1A= ExtraTreesClassifier(bootstrap=True, ccp_alpha=0.01, max_depth=20,\n",
    "#                       max_features='log2', max_leaf_nodes=35, n_estimators=400,\n",
    "#                       random_state=0, warm_start=True)\n",
    "# model1A.fit(XA_resampled, yA_resampled)\n",
    "\n",
    "## OR load model \n",
    "\n",
    "# # load the lipid model from pickle file\n",
    "modelA_pkl_file = \"20250221_Lipid_plusClin_ETC__.pkl\"  \n",
    "with open(modelA_pkl_file, 'rb') as file:  \n",
    "    model1A = pickle.load(file)\n",
    "\n",
    "# evaluate model \n",
    "yA_predict = model1A.predict(XA_test_sel)\n",
    "\n",
    "# check results\n",
    "print(classification_report(yA_test, yA_predict))"
   ]
  },
  {
   "cell_type": "code",
   "execution_count": 112,
   "metadata": {},
   "outputs": [],
   "source": [
    "train_result1A = permutation_importance(\n",
    "    model1A, XA_resampled, yA_resampled, n_repeats=30, random_state=SEED, n_jobs=2\n",
    ")\n",
    "test_results1A = permutation_importance(\n",
    "    model1A,XA_test_sel, yA_test, n_repeats=30, random_state=SEED, n_jobs=2\n",
    ")\n",
    "sorted_importances_idx1A = train_result1A.importances_mean.argsort()\n"
   ]
  },
  {
   "cell_type": "code",
   "execution_count": 113,
   "metadata": {},
   "outputs": [
    {
     "data": {
      "application/vnd.plotly.v1+json": {
       "config": {
        "plotlyServerURL": "https://plot.ly"
       },
       "data": [
        {
         "alignmentgroup": "True",
         "hovertemplate": "variable=0<br>index=%{x}<br>value=%{y}<extra></extra>",
         "legendgroup": "0",
         "marker": {
          "color": "#636efa",
          "pattern": {
           "shape": ""
          }
         },
         "name": "0",
         "offsetgroup": "0",
         "orientation": "v",
         "showlegend": true,
         "textposition": "auto",
         "type": "bar",
         "x": [
          "PC.O.18.4_18.0.",
          "CL.P.18.0_20.4.",
          "SM.d16.2_27.0.",
          "SM.d44.1.",
          "MGDG.20.4_22.5.",
          "TG.10.0_18.2_18.2.",
          "PC.17.0_18.2.",
          "AcCa.28.6.",
          "PC.16.0_21.3.",
          "AcHexZyE.28.6.",
          "PC.19.0_20.3.",
          "PC.17.0_20.4.",
          "PC.17.0_20.5.",
          "MePC.40.4.",
          "PC.16.0_19.1.",
          "ChE.16.0.",
          "PC.17.0_20.3.",
          "PC.19.0_18.2.",
          "PC.17.0_18.1.",
          "ChE.18.1.",
          "PC.18.0_20.2.",
          "CL.P.20.1_16.2.",
          "MePC.41.11.",
          "LPG.18.1.",
          "PC.O.38.5.",
          "FA.20.0.",
          "SM.d35.2.",
          "PC.19.1_18.2.",
          "LBPA.18.0_18.1.",
          "PC.21.0_18.0.",
          "PC.18.2_17.2.",
          "DG.O.13.0_19.1.",
          "PC.O.16.0_17.0.",
          "LPA.16.0.",
          "LPI.18.0.",
          "MGDG.18.2_22.6.",
          "PC.O.16.0_18.2.",
          "DG.3.0_28.0.",
          "CL.P.39.8_22.1.",
          "MePC.34.4.",
          "DAP.O.14.0_O.6.0.",
          "PC.17.0_22.5.",
          "MePC.39.4.",
          "PC.19.0_20.5.",
          "TG.16.0_16.0_18.1.",
          "PC.O.43.1.",
          "CerPE.d18.1_16.0.",
          "PC.18.0_18.1.",
          "PC.O.36.2.",
          "SM.d42.3.",
          "Cer.d17.0_35.1.",
          "ChE.16.1.",
          "Hex2Cer.d18.1_23.0.",
          "PC.33.4.",
          "Ch",
          "PC.O.34.1.",
          "TG.16.1_18.0_18.1.",
          "PC.16.0_17.0.",
          "PC.19.0_22.6.",
          "DG.22.6_25.4.",
          "MePC.30.4.",
          "SM.t34.4.",
          "MGDG.16.0_20.4.",
          "FA.18.0.",
          "Hex3Cer.d18.2_16.0.",
          "PC.36.3.",
          "PC.O.37.7.",
          "OAHFA.28.3_24.7.",
          "SM.d36.1.",
          "PC.18.1_19.1.",
          "DG.O.14.1_22.0.",
          "SM.d34.1.",
          "SM.d41.1.",
          "PC.34.2.",
          "PC.16.0_20.3.",
          "ChE.20.2.",
          "SM.d18.1_24.1.",
          "LPC.O.22.0.",
          "FA.18.2.",
          "CL.O.18.0_18.1.",
          "MePC.40.6.",
          "PC.18.0_19.2.",
          "Cer.d18.1_22.0.",
          "DG.14.0_16.0.",
          "SM.d42.1.",
          "PC.19.0_20.4.",
          "PE.18.0_20.4.",
          "TG.8.0_10.0_10.0.",
          "TG.14.0_18.3_18.4.",
          "SM.d42.2.",
          "MePC.36.7.",
          "AcCa.16.0.",
          "PC.34.3.",
          "TG.16.0_18.1_18.2.",
          "LPA.29.4.",
          "DG.12.0_18.1.",
          "PC.16.0_22.6.",
          "SM.d40.2.",
          "MePC.47.1.",
          "PC.O.38.4."
         ],
         "xaxis": "x",
         "y": [
          0.026204042098385137,
          0.021217749193126592,
          0.02099689150316149,
          0.020238416863030247,
          0.018599427795838296,
          0.017107046075518856,
          0.016099601787587896,
          0.01558654992386135,
          0.014232860218190407,
          0.013678373217015349,
          0.013441210591164461,
          0.013313641070441582,
          0.013240399538088931,
          0.012774712309503517,
          0.012168970272215276,
          0.01211437403492397,
          0.011846926946751386,
          0.011418719127409127,
          0.011373932346423463,
          0.011118316408020417,
          0.010934771262466567,
          0.010054663804463897,
          0.009490566184343005,
          0.009305279557954453,
          0.009303419657265019,
          0.009099323578958644,
          0.008984759914676226,
          0.0087683210108317,
          0.008276529605237398,
          0.008186446056206822,
          0.0077508543447069,
          0.007627304895131145,
          0.007419220764500583,
          0.0074172970484776635,
          0.007011900556201684,
          0.006972999184781788,
          0.006864084042853694,
          0.006837337684052263,
          0.006589414038414049,
          0.006487280948070439,
          0.006311278412038854,
          0.0060945345040317985,
          0.006078473590782687,
          0.005939740705168038,
          0.005835482442375303,
          0.005633130253148999,
          0.0056301120047810025,
          0.0054999782001105444,
          0.0054059281761914945,
          0.0052235143736181384,
          0.005219566925068844,
          0.0049612851687553155,
          0.004936741658608633,
          0.004851779919897224,
          0.0048232674530917785,
          0.004679018277449498,
          0.004581441394229564,
          0.004523407010384914,
          0.004513991176846032,
          0.0043352842768680545,
          0.004327138936600719,
          0.004196241599908493,
          0.004163232970400118,
          0.0041249521698849875,
          0.004108113659501896,
          0.003966494752511039,
          0.0036655367670133925,
          0.0036074723129965692,
          0.0035952294509302026,
          0.0034692436927498717,
          0.0034551128147562245,
          0.0033793489125393335,
          0.0033565841255873497,
          0.0033452064309440715,
          0.0033391393962984243,
          0.003315482720798399,
          0.0032763199673350152,
          0.003258053508440058,
          0.0032294851193462666,
          0.0031795498024566014,
          0.0031741014137677526,
          0.00316637596932121,
          0.0031627905513934313,
          0.0031521610210158736,
          0.003135171772084386,
          0.003132997803654324,
          0.003097595496587643,
          0.003077910120663851,
          0.003064228379770998,
          0.003057025672503027,
          0.0030063164483773216,
          0.0030049990816365586,
          0.0029840287287088234,
          0.002943188614774629,
          0.002922718823711436,
          0.002889187221036436,
          0.0028590711019734626,
          0.0028318458809154855,
          0.0028312671966810414,
          0.002817958693927877
         ],
         "yaxis": "y"
        }
       ],
       "layout": {
        "barmode": "relative",
        "legend": {
         "title": {
          "text": "variable"
         },
         "tracegroupgap": 0
        },
        "margin": {
         "t": 60
        },
        "template": {
         "data": {
          "bar": [
           {
            "error_x": {
             "color": "#2a3f5f"
            },
            "error_y": {
             "color": "#2a3f5f"
            },
            "marker": {
             "line": {
              "color": "#E5ECF6",
              "width": 0.5
             },
             "pattern": {
              "fillmode": "overlay",
              "size": 10,
              "solidity": 0.2
             }
            },
            "type": "bar"
           }
          ],
          "barpolar": [
           {
            "marker": {
             "line": {
              "color": "#E5ECF6",
              "width": 0.5
             },
             "pattern": {
              "fillmode": "overlay",
              "size": 10,
              "solidity": 0.2
             }
            },
            "type": "barpolar"
           }
          ],
          "carpet": [
           {
            "aaxis": {
             "endlinecolor": "#2a3f5f",
             "gridcolor": "white",
             "linecolor": "white",
             "minorgridcolor": "white",
             "startlinecolor": "#2a3f5f"
            },
            "baxis": {
             "endlinecolor": "#2a3f5f",
             "gridcolor": "white",
             "linecolor": "white",
             "minorgridcolor": "white",
             "startlinecolor": "#2a3f5f"
            },
            "type": "carpet"
           }
          ],
          "choropleth": [
           {
            "colorbar": {
             "outlinewidth": 0,
             "ticks": ""
            },
            "type": "choropleth"
           }
          ],
          "contour": [
           {
            "colorbar": {
             "outlinewidth": 0,
             "ticks": ""
            },
            "colorscale": [
             [
              0,
              "#0d0887"
             ],
             [
              0.1111111111111111,
              "#46039f"
             ],
             [
              0.2222222222222222,
              "#7201a8"
             ],
             [
              0.3333333333333333,
              "#9c179e"
             ],
             [
              0.4444444444444444,
              "#bd3786"
             ],
             [
              0.5555555555555556,
              "#d8576b"
             ],
             [
              0.6666666666666666,
              "#ed7953"
             ],
             [
              0.7777777777777778,
              "#fb9f3a"
             ],
             [
              0.8888888888888888,
              "#fdca26"
             ],
             [
              1,
              "#f0f921"
             ]
            ],
            "type": "contour"
           }
          ],
          "contourcarpet": [
           {
            "colorbar": {
             "outlinewidth": 0,
             "ticks": ""
            },
            "type": "contourcarpet"
           }
          ],
          "heatmap": [
           {
            "colorbar": {
             "outlinewidth": 0,
             "ticks": ""
            },
            "colorscale": [
             [
              0,
              "#0d0887"
             ],
             [
              0.1111111111111111,
              "#46039f"
             ],
             [
              0.2222222222222222,
              "#7201a8"
             ],
             [
              0.3333333333333333,
              "#9c179e"
             ],
             [
              0.4444444444444444,
              "#bd3786"
             ],
             [
              0.5555555555555556,
              "#d8576b"
             ],
             [
              0.6666666666666666,
              "#ed7953"
             ],
             [
              0.7777777777777778,
              "#fb9f3a"
             ],
             [
              0.8888888888888888,
              "#fdca26"
             ],
             [
              1,
              "#f0f921"
             ]
            ],
            "type": "heatmap"
           }
          ],
          "heatmapgl": [
           {
            "colorbar": {
             "outlinewidth": 0,
             "ticks": ""
            },
            "colorscale": [
             [
              0,
              "#0d0887"
             ],
             [
              0.1111111111111111,
              "#46039f"
             ],
             [
              0.2222222222222222,
              "#7201a8"
             ],
             [
              0.3333333333333333,
              "#9c179e"
             ],
             [
              0.4444444444444444,
              "#bd3786"
             ],
             [
              0.5555555555555556,
              "#d8576b"
             ],
             [
              0.6666666666666666,
              "#ed7953"
             ],
             [
              0.7777777777777778,
              "#fb9f3a"
             ],
             [
              0.8888888888888888,
              "#fdca26"
             ],
             [
              1,
              "#f0f921"
             ]
            ],
            "type": "heatmapgl"
           }
          ],
          "histogram": [
           {
            "marker": {
             "pattern": {
              "fillmode": "overlay",
              "size": 10,
              "solidity": 0.2
             }
            },
            "type": "histogram"
           }
          ],
          "histogram2d": [
           {
            "colorbar": {
             "outlinewidth": 0,
             "ticks": ""
            },
            "colorscale": [
             [
              0,
              "#0d0887"
             ],
             [
              0.1111111111111111,
              "#46039f"
             ],
             [
              0.2222222222222222,
              "#7201a8"
             ],
             [
              0.3333333333333333,
              "#9c179e"
             ],
             [
              0.4444444444444444,
              "#bd3786"
             ],
             [
              0.5555555555555556,
              "#d8576b"
             ],
             [
              0.6666666666666666,
              "#ed7953"
             ],
             [
              0.7777777777777778,
              "#fb9f3a"
             ],
             [
              0.8888888888888888,
              "#fdca26"
             ],
             [
              1,
              "#f0f921"
             ]
            ],
            "type": "histogram2d"
           }
          ],
          "histogram2dcontour": [
           {
            "colorbar": {
             "outlinewidth": 0,
             "ticks": ""
            },
            "colorscale": [
             [
              0,
              "#0d0887"
             ],
             [
              0.1111111111111111,
              "#46039f"
             ],
             [
              0.2222222222222222,
              "#7201a8"
             ],
             [
              0.3333333333333333,
              "#9c179e"
             ],
             [
              0.4444444444444444,
              "#bd3786"
             ],
             [
              0.5555555555555556,
              "#d8576b"
             ],
             [
              0.6666666666666666,
              "#ed7953"
             ],
             [
              0.7777777777777778,
              "#fb9f3a"
             ],
             [
              0.8888888888888888,
              "#fdca26"
             ],
             [
              1,
              "#f0f921"
             ]
            ],
            "type": "histogram2dcontour"
           }
          ],
          "mesh3d": [
           {
            "colorbar": {
             "outlinewidth": 0,
             "ticks": ""
            },
            "type": "mesh3d"
           }
          ],
          "parcoords": [
           {
            "line": {
             "colorbar": {
              "outlinewidth": 0,
              "ticks": ""
             }
            },
            "type": "parcoords"
           }
          ],
          "pie": [
           {
            "automargin": true,
            "type": "pie"
           }
          ],
          "scatter": [
           {
            "fillpattern": {
             "fillmode": "overlay",
             "size": 10,
             "solidity": 0.2
            },
            "type": "scatter"
           }
          ],
          "scatter3d": [
           {
            "line": {
             "colorbar": {
              "outlinewidth": 0,
              "ticks": ""
             }
            },
            "marker": {
             "colorbar": {
              "outlinewidth": 0,
              "ticks": ""
             }
            },
            "type": "scatter3d"
           }
          ],
          "scattercarpet": [
           {
            "marker": {
             "colorbar": {
              "outlinewidth": 0,
              "ticks": ""
             }
            },
            "type": "scattercarpet"
           }
          ],
          "scattergeo": [
           {
            "marker": {
             "colorbar": {
              "outlinewidth": 0,
              "ticks": ""
             }
            },
            "type": "scattergeo"
           }
          ],
          "scattergl": [
           {
            "marker": {
             "colorbar": {
              "outlinewidth": 0,
              "ticks": ""
             }
            },
            "type": "scattergl"
           }
          ],
          "scattermapbox": [
           {
            "marker": {
             "colorbar": {
              "outlinewidth": 0,
              "ticks": ""
             }
            },
            "type": "scattermapbox"
           }
          ],
          "scatterpolar": [
           {
            "marker": {
             "colorbar": {
              "outlinewidth": 0,
              "ticks": ""
             }
            },
            "type": "scatterpolar"
           }
          ],
          "scatterpolargl": [
           {
            "marker": {
             "colorbar": {
              "outlinewidth": 0,
              "ticks": ""
             }
            },
            "type": "scatterpolargl"
           }
          ],
          "scatterternary": [
           {
            "marker": {
             "colorbar": {
              "outlinewidth": 0,
              "ticks": ""
             }
            },
            "type": "scatterternary"
           }
          ],
          "surface": [
           {
            "colorbar": {
             "outlinewidth": 0,
             "ticks": ""
            },
            "colorscale": [
             [
              0,
              "#0d0887"
             ],
             [
              0.1111111111111111,
              "#46039f"
             ],
             [
              0.2222222222222222,
              "#7201a8"
             ],
             [
              0.3333333333333333,
              "#9c179e"
             ],
             [
              0.4444444444444444,
              "#bd3786"
             ],
             [
              0.5555555555555556,
              "#d8576b"
             ],
             [
              0.6666666666666666,
              "#ed7953"
             ],
             [
              0.7777777777777778,
              "#fb9f3a"
             ],
             [
              0.8888888888888888,
              "#fdca26"
             ],
             [
              1,
              "#f0f921"
             ]
            ],
            "type": "surface"
           }
          ],
          "table": [
           {
            "cells": {
             "fill": {
              "color": "#EBF0F8"
             },
             "line": {
              "color": "white"
             }
            },
            "header": {
             "fill": {
              "color": "#C8D4E3"
             },
             "line": {
              "color": "white"
             }
            },
            "type": "table"
           }
          ]
         },
         "layout": {
          "annotationdefaults": {
           "arrowcolor": "#2a3f5f",
           "arrowhead": 0,
           "arrowwidth": 1
          },
          "autotypenumbers": "strict",
          "coloraxis": {
           "colorbar": {
            "outlinewidth": 0,
            "ticks": ""
           }
          },
          "colorscale": {
           "diverging": [
            [
             0,
             "#8e0152"
            ],
            [
             0.1,
             "#c51b7d"
            ],
            [
             0.2,
             "#de77ae"
            ],
            [
             0.3,
             "#f1b6da"
            ],
            [
             0.4,
             "#fde0ef"
            ],
            [
             0.5,
             "#f7f7f7"
            ],
            [
             0.6,
             "#e6f5d0"
            ],
            [
             0.7,
             "#b8e186"
            ],
            [
             0.8,
             "#7fbc41"
            ],
            [
             0.9,
             "#4d9221"
            ],
            [
             1,
             "#276419"
            ]
           ],
           "sequential": [
            [
             0,
             "#0d0887"
            ],
            [
             0.1111111111111111,
             "#46039f"
            ],
            [
             0.2222222222222222,
             "#7201a8"
            ],
            [
             0.3333333333333333,
             "#9c179e"
            ],
            [
             0.4444444444444444,
             "#bd3786"
            ],
            [
             0.5555555555555556,
             "#d8576b"
            ],
            [
             0.6666666666666666,
             "#ed7953"
            ],
            [
             0.7777777777777778,
             "#fb9f3a"
            ],
            [
             0.8888888888888888,
             "#fdca26"
            ],
            [
             1,
             "#f0f921"
            ]
           ],
           "sequentialminus": [
            [
             0,
             "#0d0887"
            ],
            [
             0.1111111111111111,
             "#46039f"
            ],
            [
             0.2222222222222222,
             "#7201a8"
            ],
            [
             0.3333333333333333,
             "#9c179e"
            ],
            [
             0.4444444444444444,
             "#bd3786"
            ],
            [
             0.5555555555555556,
             "#d8576b"
            ],
            [
             0.6666666666666666,
             "#ed7953"
            ],
            [
             0.7777777777777778,
             "#fb9f3a"
            ],
            [
             0.8888888888888888,
             "#fdca26"
            ],
            [
             1,
             "#f0f921"
            ]
           ]
          },
          "colorway": [
           "#636efa",
           "#EF553B",
           "#00cc96",
           "#ab63fa",
           "#FFA15A",
           "#19d3f3",
           "#FF6692",
           "#B6E880",
           "#FF97FF",
           "#FECB52"
          ],
          "font": {
           "color": "#2a3f5f"
          },
          "geo": {
           "bgcolor": "white",
           "lakecolor": "white",
           "landcolor": "#E5ECF6",
           "showlakes": true,
           "showland": true,
           "subunitcolor": "white"
          },
          "hoverlabel": {
           "align": "left"
          },
          "hovermode": "closest",
          "mapbox": {
           "style": "light"
          },
          "paper_bgcolor": "white",
          "plot_bgcolor": "#E5ECF6",
          "polar": {
           "angularaxis": {
            "gridcolor": "white",
            "linecolor": "white",
            "ticks": ""
           },
           "bgcolor": "#E5ECF6",
           "radialaxis": {
            "gridcolor": "white",
            "linecolor": "white",
            "ticks": ""
           }
          },
          "scene": {
           "xaxis": {
            "backgroundcolor": "#E5ECF6",
            "gridcolor": "white",
            "gridwidth": 2,
            "linecolor": "white",
            "showbackground": true,
            "ticks": "",
            "zerolinecolor": "white"
           },
           "yaxis": {
            "backgroundcolor": "#E5ECF6",
            "gridcolor": "white",
            "gridwidth": 2,
            "linecolor": "white",
            "showbackground": true,
            "ticks": "",
            "zerolinecolor": "white"
           },
           "zaxis": {
            "backgroundcolor": "#E5ECF6",
            "gridcolor": "white",
            "gridwidth": 2,
            "linecolor": "white",
            "showbackground": true,
            "ticks": "",
            "zerolinecolor": "white"
           }
          },
          "shapedefaults": {
           "line": {
            "color": "#2a3f5f"
           }
          },
          "ternary": {
           "aaxis": {
            "gridcolor": "white",
            "linecolor": "white",
            "ticks": ""
           },
           "baxis": {
            "gridcolor": "white",
            "linecolor": "white",
            "ticks": ""
           },
           "bgcolor": "#E5ECF6",
           "caxis": {
            "gridcolor": "white",
            "linecolor": "white",
            "ticks": ""
           }
          },
          "title": {
           "x": 0.05
          },
          "xaxis": {
           "automargin": true,
           "gridcolor": "white",
           "linecolor": "white",
           "ticks": "",
           "title": {
            "standoff": 15
           },
           "zerolinecolor": "white",
           "zerolinewidth": 2
          },
          "yaxis": {
           "automargin": true,
           "gridcolor": "white",
           "linecolor": "white",
           "ticks": "",
           "title": {
            "standoff": 15
           },
           "zerolinecolor": "white",
           "zerolinewidth": 2
          }
         }
        },
        "xaxis": {
         "anchor": "y",
         "domain": [
          0,
          1
         ],
         "title": {
          "text": "index"
         }
        },
        "yaxis": {
         "anchor": "x",
         "domain": [
          0,
          1
         ],
         "title": {
          "text": "value"
         }
        }
       }
      }
     },
     "metadata": {},
     "output_type": "display_data"
    }
   ],
   "source": [
    "##Feature importance for the final model\n",
    "\n",
    "feature_names = XA_resampled.columns\n",
    "\n",
    "coefs = pd.DataFrame(\n",
    "    model1A.feature_importances_,\n",
    "    columns=[\"Coefficients\"],\n",
    "    index=feature_names,\n",
    ")\n",
    "features=[]\n",
    "ft_importances = pd.Series(model1A.feature_importances_, index = XA_resampled.columns.values).sort_values(ascending=False)\n",
    "\n",
    "for i,v in enumerate(ft_importances):\n",
    "    features.append ('Feature: %0d, Score: %.5f' %(i,v))\n",
    "xx3=pd.DataFrame(features)\n",
    "\n",
    "fig2= px.bar(ft_importances.head(100))\n",
    "fig2.show()\n",
    "\n",
    "train_importances = pd.DataFrame(\n",
    "    train_result.importances[sorted_importances_idx].T,\n",
    "    columns=XA.columns[sorted_importances_idx],\n",
    ")\n",
    "test_importances = pd.DataFrame(\n",
    "    test_results.importances[sorted_importances_idx].T,\n",
    "    columns=XA.columns[sorted_importances_idx],\n",
    ")\n",
    "\n",
    "# fig2.write_image(\"20250108_images/Important_Features_lip_plusclin.png\")"
   ]
  },
  {
   "cell_type": "code",
   "execution_count": null,
   "metadata": {},
   "outputs": [],
   "source": [
    "##Save the data\n",
    "\n",
    "# train_importances.to_csv ('20250108_lipplusclin_features_train_.csv', index=False)\n",
    "# coefs.to_csv('20250108_lipplusclin_coefs_.csv',index=False)\n",
    "# test_importances.to_csv('20250108_lipplusclin_features_test_.csv', index=False)\n",
    "# ft_importances.to_csv('20250108_lipplusclin_ft_importance_.csv')\n",
    "\n",
    "classifier_output_for_survivalA= pd.DataFrame(model1A.predict_proba(XA_test_sel))\n",
    "# classifier_output_for_survival.to_csv('20250108_classification_output_for_survival_lipplusclin.csv')"
   ]
  },
  {
   "cell_type": "code",
   "execution_count": 114,
   "metadata": {},
   "outputs": [
    {
     "data": {
      "image/png": "[encoded data removed]",
      "text/plain": [
       "<Figure size 640x480 with 1 Axes>"
      ]
     },
     "metadata": {},
     "output_type": "display_data"
    }
   ],
   "source": [
    "fig, ax2 = plt.subplots()\n",
    "ax2 = plt.gca()\n",
    "rfc_disp = RocCurveDisplay.from_estimator(model1A, XA_test_sel, yA_test, ax=ax2, alpha=0.8, name='Test_data_lipidomics_with_clinical_features')\n",
    "plt.show()\n",
    "# fig.savefig(\"20250108_images/ROC__lip_plusClin.png\")"
   ]
  },
  {
   "cell_type": "code",
   "execution_count": null,
   "metadata": {},
   "outputs": [],
   "source": [
    "# # save the lipid-clinical classification model as a pickle file\n",
    "\n",
    "# model_pkl_file = \"20250221_Lipid_plusClin_ETC__.pkl\"  \n",
    "\n",
    "# with open(model_pkl_file, 'wb') as file:  \n",
    "#     pickle.dump(model1A, file)"
   ]
  },
  {
   "cell_type": "code",
   "execution_count": 60,
   "metadata": {},
   "outputs": [],
   "source": [
    "##Clinical data based model \n",
    "C= pd.read_csv(\"CRvnoR_standpred_forfinal_.csv\") ##Clinical paramaters \n",
    "Z2= pd.DataFrame(pd.read_csv(\"CRvnoR_lip_forfinal.csv\")) #clinical features\n",
    "\n",
    "Z2['response'] = Z2['response'].replace('CR', 0).replace('NR', 1)\n",
    "y2 = Z2['response']\n",
    "X2 = C"
   ]
  },
  {
   "cell_type": "code",
   "execution_count": 61,
   "metadata": {},
   "outputs": [],
   "source": [
    "##Train/test\n",
    "X_train2, X_test2, y_train2, y_test2 = train_test_split(X2, y2,  test_size=0.2, random_state=SEED, stratify=y2)\n",
    "\n",
    "\n",
    "X_resampled2, y_resampled2 = smote.fit_resample(\n",
    "    X_train2, y_train2)\n"
   ]
  },
  {
   "cell_type": "code",
   "execution_count": null,
   "metadata": {},
   "outputs": [],
   "source": [
    "rfc_7 = RandomizedSearchCV(estimator=rfc, param_distributions=param_rfc, cv=inner_cv, refit=True, scoring='f1')\n",
    "rfc_7.fit(X_resampled2, y_resampled2,)\n",
    "non_nested_scores_rfc7 = rfc_7.best_score_\n",
    "nested_score_rfc7 = cross_val_score(rfc_7, X_resampled2, y_resampled2, cv=outer_cv, scoring='f1')\n",
    "\n",
    "rfc_8 = RandomizedSearchCV(estimator=etc, param_distributions=param_rfc, cv=inner_cv, refit=True, scoring='f1')\n",
    "rfc_8.fit(X_resampled2, y_resampled2,)\n",
    "non_nested_scores_rfc8 = rfc_8.best_score_\n",
    "nested_score_rfc8 = cross_val_score(rfc_2, X_resampled2, y_resampled2, cv=outer_cv, scoring='f1')\n",
    "\n",
    "rfc_9 = RandomizedSearchCV(estimator=gbc, param_distributions=param_rfc2, cv=inner_cv, refit=True, scoring='f1')\n",
    "rfc_9.fit(X_train2, y_train2)\n",
    "non_nested_scores_rfc9 = rfc_9.best_score_\n",
    "nested_score_rfc9 = cross_val_score(rfc_9, X_resampled2, y_resampled2, cv=outer_cv, scoring='f1')\n",
    "\n",
    "param_lrm4={\n",
    "    'solver' : ['newton-cg', 'liblinear', 'sag', 'saga'],\n",
    "    'penalty' : ['l2','elasticnet'],\n",
    "    'C' : [100, 10, 1.0, 0.1, 0.01],\n",
    "}\n",
    "lrm_2 = GridSearchCV(estimator=lrm, param_grid=param_lrm4, cv=inner_cv, refit=True, scoring='f1')\n",
    "nested_score_lrm2 = cross_val_score(lrm_2, X_resampled2, y_resampled2, cv=outer_cv, scoring='f1')\n",
    "\n",
    "print(\"done\")\n",
    "##15 mins"
   ]
  },
  {
   "cell_type": "code",
   "execution_count": null,
   "metadata": {},
   "outputs": [
    {
     "name": "stdout",
     "output_type": "stream",
     "text": [
      "(0.6763013586001202, 0.7037603704823819, 0.7412842566493683, 0.7018500540677961)\n"
     ]
    }
   ],
   "source": [
    "bench2 = (nested_score_lrm2.mean(),nested_score_rfc7.mean(),nested_score_rfc8.mean(),nested_score_rfc9.mean())\n",
    "\n",
    "print(bench2)\n",
    "\n",
    "# Last results (0.6763013586001202, 0.7037603704823819, 0.7412842566493683, 0.7018500540677961)"
   ]
  },
  {
   "cell_type": "code",
   "execution_count": null,
   "metadata": {},
   "outputs": [
    {
     "data": {
      "text/html": [
       "<style>#sk-container-id-5 {color: black;background-color: white;}#sk-container-id-5 pre{padding: 0;}#sk-container-id-5 div.sk-toggleable {background-color: white;}#sk-container-id-5 label.sk-toggleable__label {cursor: pointer;display: block;width: 100%;margin-bottom: 0;padding: 0.3em;box-sizing: border-box;text-align: center;}#sk-container-id-5 label.sk-toggleable__label-arrow:before {content: \"▸\";float: left;margin-right: 0.25em;color: #696969;}#sk-container-id-5 label.sk-toggleable__label-arrow:hover:before {color: black;}#sk-container-id-5 div.sk-estimator:hover label.sk-toggleable__label-arrow:before {color: black;}#sk-container-id-5 div.sk-toggleable__content {max-height: 0;max-width: 0;overflow: hidden;text-align: left;background-color: #f0f8ff;}#sk-container-id-5 div.sk-toggleable__content pre {margin: 0.2em;color: black;border-radius: 0.25em;background-color: #f0f8ff;}#sk-container-id-5 input.sk-toggleable__control:checked~div.sk-toggleable__content {max-height: 200px;max-width: 100%;overflow: auto;}#sk-container-id-5 input.sk-toggleable__control:checked~label.sk-toggleable__label-arrow:before {content: \"▾\";}#sk-container-id-5 div.sk-estimator input.sk-toggleable__control:checked~label.sk-toggleable__label {background-color: #d4ebff;}#sk-container-id-5 div.sk-label input.sk-toggleable__control:checked~label.sk-toggleable__label {background-color: #d4ebff;}#sk-container-id-5 input.sk-hidden--visually {border: 0;clip: rect(1px 1px 1px 1px);clip: rect(1px, 1px, 1px, 1px);height: 1px;margin: -1px;overflow: hidden;padding: 0;position: absolute;width: 1px;}#sk-container-id-5 div.sk-estimator {font-family: monospace;background-color: #f0f8ff;border: 1px dotted black;border-radius: 0.25em;box-sizing: border-box;margin-bottom: 0.5em;}#sk-container-id-5 div.sk-estimator:hover {background-color: #d4ebff;}#sk-container-id-5 div.sk-parallel-item::after {content: \"\";width: 100%;border-bottom: 1px solid gray;flex-grow: 1;}#sk-container-id-5 div.sk-label:hover label.sk-toggleable__label {background-color: #d4ebff;}#sk-container-id-5 div.sk-serial::before {content: \"\";position: absolute;border-left: 1px solid gray;box-sizing: border-box;top: 0;bottom: 0;left: 50%;z-index: 0;}#sk-container-id-5 div.sk-serial {display: flex;flex-direction: column;align-items: center;background-color: white;padding-right: 0.2em;padding-left: 0.2em;position: relative;}#sk-container-id-5 div.sk-item {position: relative;z-index: 1;}#sk-container-id-5 div.sk-parallel {display: flex;align-items: stretch;justify-content: center;background-color: white;position: relative;}#sk-container-id-5 div.sk-item::before, #sk-container-id-5 div.sk-parallel-item::before {content: \"\";position: absolute;border-left: 1px solid gray;box-sizing: border-box;top: 0;bottom: 0;left: 50%;z-index: -1;}#sk-container-id-5 div.sk-parallel-item {display: flex;flex-direction: column;z-index: 1;position: relative;background-color: white;}#sk-container-id-5 div.sk-parallel-item:first-child::after {align-self: flex-end;width: 50%;}#sk-container-id-5 div.sk-parallel-item:last-child::after {align-self: flex-start;width: 50%;}#sk-container-id-5 div.sk-parallel-item:only-child::after {width: 0;}#sk-container-id-5 div.sk-dashed-wrapped {border: 1px dashed gray;margin: 0 0.4em 0.5em 0.4em;box-sizing: border-box;padding-bottom: 0.4em;background-color: white;}#sk-container-id-5 div.sk-label label {font-family: monospace;font-weight: bold;display: inline-block;line-height: 1.2em;}#sk-container-id-5 div.sk-label-container {text-align: center;}#sk-container-id-5 div.sk-container {/* jupyter's `normalize.less` sets `[hidden] { display: none; }` but bootstrap.min.css set `[hidden] { display: none !important; }` so we also need the `!important` here to be able to override the default hidden behavior on the sphinx rendered scikit-learn.org. See: https://github.com/scikit-learn/scikit-learn/issues/21755 */display: inline-block !important;position: relative;}#sk-container-id-5 div.sk-text-repr-fallback {display: none;}</style><div id=\"sk-container-id-5\" class=\"sk-top-container\"><div class=\"sk-text-repr-fallback\"><pre>ExtraTreesClassifier(bootstrap=True, ccp_alpha=0.005, max_depth=15,\n",
       "                     max_features=None, max_leaf_nodes=15, n_estimators=400,\n",
       "                     random_state=0)</pre><b>In a Jupyter environment, please rerun this cell to show the HTML representation or trust the notebook. <br />On GitHub, the HTML representation is unable to render, please try loading this page with nbviewer.org.</b></div><div class=\"sk-container\" hidden><div class=\"sk-item\"><div class=\"sk-estimator sk-toggleable\"><input class=\"sk-toggleable__control sk-hidden--visually\" id=\"sk-estimator-id-5\" type=\"checkbox\" checked><label for=\"sk-estimator-id-5\" class=\"sk-toggleable__label sk-toggleable__label-arrow\">ExtraTreesClassifier</label><div class=\"sk-toggleable__content\"><pre>ExtraTreesClassifier(bootstrap=True, ccp_alpha=0.005, max_depth=15,\n",
       "                     max_features=None, max_leaf_nodes=15, n_estimators=400,\n",
       "                     random_state=0)</pre></div></div></div></div></div>"
      ],
      "text/plain": [
       "ExtraTreesClassifier(bootstrap=True, ccp_alpha=0.005, max_depth=15,\n",
       "                     max_features=None, max_leaf_nodes=15, n_estimators=400,\n",
       "                     random_state=0)"
      ]
     },
     "execution_count": 79,
     "metadata": {},
     "output_type": "execute_result"
    }
   ],
   "source": [
    "rfc_8.best_estimator_\n",
    "\n",
    "# Last result ExtraTreesClassifier(bootstrap=True, ccp_alpha=0.005, max_depth=15,\n",
    "                    #  max_features=None, max_leaf_nodes=15, n_estimators=400,\n",
    "                    #  random_state=0)"
   ]
  },
  {
   "cell_type": "code",
   "execution_count": null,
   "metadata": {},
   "outputs": [
    {
     "name": "stdout",
     "output_type": "stream",
     "text": [
      "              precision    recall  f1-score   support\n",
      "\n",
      "           0       0.78      0.58      0.67        36\n",
      "           1       0.25      0.45      0.32        11\n",
      "\n",
      "    accuracy                           0.55        47\n",
      "   macro avg       0.51      0.52      0.49        47\n",
      "weighted avg       0.65      0.55      0.59        47\n",
      "\n"
     ]
    }
   ],
   "source": [
    "# model2 = ExtraTreesClassifier(bootstrap=True, ccp_alpha=0.005, max_depth=15,\n",
    "#                      max_features=None, max_leaf_nodes=15, n_estimators=400,\n",
    "#                      random_state=0)\n",
    "# model2.fit(X_resampled2, y_resampled2)\n",
    "\n",
    "\n",
    "## OR load model \n",
    "\n",
    "# # load the lipid model from pickle file\n",
    "model2_pkl_file = \"20250108_CLIN_ETC_.pkl\"  \n",
    "with open(model2_pkl_file, 'rb') as file2:  \n",
    "    model2 = pickle.load(file2)\n",
    "\n",
    "# evaluate model \n",
    "y2_predict = model2.predict(X_test2)\n",
    "\n",
    "# check results\n",
    "print(classification_report(y_test2, y2_predict))"
   ]
  },
  {
   "cell_type": "code",
   "execution_count": 64,
   "metadata": {},
   "outputs": [],
   "source": [
    "train_result2 = permutation_importance(\n",
    "    model2, X_resampled2, y_resampled2, n_repeats=30, random_state=SEED, n_jobs=2\n",
    ")\n",
    "test_results2 = permutation_importance(\n",
    "    model2,X_test2, y_test2, n_repeats=30, random_state=SEED, n_jobs=2\n",
    ")\n",
    "sorted_importances_idx2 = train_result2.importances_mean.argsort()"
   ]
  },
  {
   "cell_type": "code",
   "execution_count": 65,
   "metadata": {},
   "outputs": [
    {
     "data": {
      "application/vnd.plotly.v1+json": {
       "config": {
        "plotlyServerURL": "https://plot.ly"
       },
       "data": [
        {
         "alignmentgroup": "True",
         "hovertemplate": "variable=0<br>index=%{x}<br>value=%{y}<extra></extra>",
         "legendgroup": "0",
         "marker": {
          "color": "#636efa",
          "pattern": {
           "shape": ""
          }
         },
         "name": "0",
         "offsetgroup": "0",
         "orientation": "v",
         "showlegend": true,
         "textposition": "auto",
         "type": "bar",
         "x": [
          "wbc",
          "age",
          "cyto_risk",
          "AML_type"
         ],
         "xaxis": "x",
         "y": [
          0.36638589747779465,
          0.3270503511731604,
          0.2711649848191743,
          0.0353987665298707
         ],
         "yaxis": "y"
        }
       ],
       "layout": {
        "barmode": "relative",
        "legend": {
         "title": {
          "text": "variable"
         },
         "tracegroupgap": 0
        },
        "margin": {
         "t": 60
        },
        "template": {
         "data": {
          "bar": [
           {
            "error_x": {
             "color": "#2a3f5f"
            },
            "error_y": {
             "color": "#2a3f5f"
            },
            "marker": {
             "line": {
              "color": "#E5ECF6",
              "width": 0.5
             },
             "pattern": {
              "fillmode": "overlay",
              "size": 10,
              "solidity": 0.2
             }
            },
            "type": "bar"
           }
          ],
          "barpolar": [
           {
            "marker": {
             "line": {
              "color": "#E5ECF6",
              "width": 0.5
             },
             "pattern": {
              "fillmode": "overlay",
              "size": 10,
              "solidity": 0.2
             }
            },
            "type": "barpolar"
           }
          ],
          "carpet": [
           {
            "aaxis": {
             "endlinecolor": "#2a3f5f",
             "gridcolor": "white",
             "linecolor": "white",
             "minorgridcolor": "white",
             "startlinecolor": "#2a3f5f"
            },
            "baxis": {
             "endlinecolor": "#2a3f5f",
             "gridcolor": "white",
             "linecolor": "white",
             "minorgridcolor": "white",
             "startlinecolor": "#2a3f5f"
            },
            "type": "carpet"
           }
          ],
          "choropleth": [
           {
            "colorbar": {
             "outlinewidth": 0,
             "ticks": ""
            },
            "type": "choropleth"
           }
          ],
          "contour": [
           {
            "colorbar": {
             "outlinewidth": 0,
             "ticks": ""
            },
            "colorscale": [
             [
              0,
              "#0d0887"
             ],
             [
              0.1111111111111111,
              "#46039f"
             ],
             [
              0.2222222222222222,
              "#7201a8"
             ],
             [
              0.3333333333333333,
              "#9c179e"
             ],
             [
              0.4444444444444444,
              "#bd3786"
             ],
             [
              0.5555555555555556,
              "#d8576b"
             ],
             [
              0.6666666666666666,
              "#ed7953"
             ],
             [
              0.7777777777777778,
              "#fb9f3a"
             ],
             [
              0.8888888888888888,
              "#fdca26"
             ],
             [
              1,
              "#f0f921"
             ]
            ],
            "type": "contour"
           }
          ],
          "contourcarpet": [
           {
            "colorbar": {
             "outlinewidth": 0,
             "ticks": ""
            },
            "type": "contourcarpet"
           }
          ],
          "heatmap": [
           {
            "colorbar": {
             "outlinewidth": 0,
             "ticks": ""
            },
            "colorscale": [
             [
              0,
              "#0d0887"
             ],
             [
              0.1111111111111111,
              "#46039f"
             ],
             [
              0.2222222222222222,
              "#7201a8"
             ],
             [
              0.3333333333333333,
              "#9c179e"
             ],
             [
              0.4444444444444444,
              "#bd3786"
             ],
             [
              0.5555555555555556,
              "#d8576b"
             ],
             [
              0.6666666666666666,
              "#ed7953"
             ],
             [
              0.7777777777777778,
              "#fb9f3a"
             ],
             [
              0.8888888888888888,
              "#fdca26"
             ],
             [
              1,
              "#f0f921"
             ]
            ],
            "type": "heatmap"
           }
          ],
          "heatmapgl": [
           {
            "colorbar": {
             "outlinewidth": 0,
             "ticks": ""
            },
            "colorscale": [
             [
              0,
              "#0d0887"
             ],
             [
              0.1111111111111111,
              "#46039f"
             ],
             [
              0.2222222222222222,
              "#7201a8"
             ],
             [
              0.3333333333333333,
              "#9c179e"
             ],
             [
              0.4444444444444444,
              "#bd3786"
             ],
             [
              0.5555555555555556,
              "#d8576b"
             ],
             [
              0.6666666666666666,
              "#ed7953"
             ],
             [
              0.7777777777777778,
              "#fb9f3a"
             ],
             [
              0.8888888888888888,
              "#fdca26"
             ],
             [
              1,
              "#f0f921"
             ]
            ],
            "type": "heatmapgl"
           }
          ],
          "histogram": [
           {
            "marker": {
             "pattern": {
              "fillmode": "overlay",
              "size": 10,
              "solidity": 0.2
             }
            },
            "type": "histogram"
           }
          ],
          "histogram2d": [
           {
            "colorbar": {
             "outlinewidth": 0,
             "ticks": ""
            },
            "colorscale": [
             [
              0,
              "#0d0887"
             ],
             [
              0.1111111111111111,
              "#46039f"
             ],
             [
              0.2222222222222222,
              "#7201a8"
             ],
             [
              0.3333333333333333,
              "#9c179e"
             ],
             [
              0.4444444444444444,
              "#bd3786"
             ],
             [
              0.5555555555555556,
              "#d8576b"
             ],
             [
              0.6666666666666666,
              "#ed7953"
             ],
             [
              0.7777777777777778,
              "#fb9f3a"
             ],
             [
              0.8888888888888888,
              "#fdca26"
             ],
             [
              1,
              "#f0f921"
             ]
            ],
            "type": "histogram2d"
           }
          ],
          "histogram2dcontour": [
           {
            "colorbar": {
             "outlinewidth": 0,
             "ticks": ""
            },
            "colorscale": [
             [
              0,
              "#0d0887"
             ],
             [
              0.1111111111111111,
              "#46039f"
             ],
             [
              0.2222222222222222,
              "#7201a8"
             ],
             [
              0.3333333333333333,
              "#9c179e"
             ],
             [
              0.4444444444444444,
              "#bd3786"
             ],
             [
              0.5555555555555556,
              "#d8576b"
             ],
             [
              0.6666666666666666,
              "#ed7953"
             ],
             [
              0.7777777777777778,
              "#fb9f3a"
             ],
             [
              0.8888888888888888,
              "#fdca26"
             ],
             [
              1,
              "#f0f921"
             ]
            ],
            "type": "histogram2dcontour"
           }
          ],
          "mesh3d": [
           {
            "colorbar": {
             "outlinewidth": 0,
             "ticks": ""
            },
            "type": "mesh3d"
           }
          ],
          "parcoords": [
           {
            "line": {
             "colorbar": {
              "outlinewidth": 0,
              "ticks": ""
             }
            },
            "type": "parcoords"
           }
          ],
          "pie": [
           {
            "automargin": true,
            "type": "pie"
           }
          ],
          "scatter": [
           {
            "fillpattern": {
             "fillmode": "overlay",
             "size": 10,
             "solidity": 0.2
            },
            "type": "scatter"
           }
          ],
          "scatter3d": [
           {
            "line": {
             "colorbar": {
              "outlinewidth": 0,
              "ticks": ""
             }
            },
            "marker": {
             "colorbar": {
              "outlinewidth": 0,
              "ticks": ""
             }
            },
            "type": "scatter3d"
           }
          ],
          "scattercarpet": [
           {
            "marker": {
             "colorbar": {
              "outlinewidth": 0,
              "ticks": ""
             }
            },
            "type": "scattercarpet"
           }
          ],
          "scattergeo": [
           {
            "marker": {
             "colorbar": {
              "outlinewidth": 0,
              "ticks": ""
             }
            },
            "type": "scattergeo"
           }
          ],
          "scattergl": [
           {
            "marker": {
             "colorbar": {
              "outlinewidth": 0,
              "ticks": ""
             }
            },
            "type": "scattergl"
           }
          ],
          "scattermapbox": [
           {
            "marker": {
             "colorbar": {
              "outlinewidth": 0,
              "ticks": ""
             }
            },
            "type": "scattermapbox"
           }
          ],
          "scatterpolar": [
           {
            "marker": {
             "colorbar": {
              "outlinewidth": 0,
              "ticks": ""
             }
            },
            "type": "scatterpolar"
           }
          ],
          "scatterpolargl": [
           {
            "marker": {
             "colorbar": {
              "outlinewidth": 0,
              "ticks": ""
             }
            },
            "type": "scatterpolargl"
           }
          ],
          "scatterternary": [
           {
            "marker": {
             "colorbar": {
              "outlinewidth": 0,
              "ticks": ""
             }
            },
            "type": "scatterternary"
           }
          ],
          "surface": [
           {
            "colorbar": {
             "outlinewidth": 0,
             "ticks": ""
            },
            "colorscale": [
             [
              0,
              "#0d0887"
             ],
             [
              0.1111111111111111,
              "#46039f"
             ],
             [
              0.2222222222222222,
              "#7201a8"
             ],
             [
              0.3333333333333333,
              "#9c179e"
             ],
             [
              0.4444444444444444,
              "#bd3786"
             ],
             [
              0.5555555555555556,
              "#d8576b"
             ],
             [
              0.6666666666666666,
              "#ed7953"
             ],
             [
              0.7777777777777778,
              "#fb9f3a"
             ],
             [
              0.8888888888888888,
              "#fdca26"
             ],
             [
              1,
              "#f0f921"
             ]
            ],
            "type": "surface"
           }
          ],
          "table": [
           {
            "cells": {
             "fill": {
              "color": "#EBF0F8"
             },
             "line": {
              "color": "white"
             }
            },
            "header": {
             "fill": {
              "color": "#C8D4E3"
             },
             "line": {
              "color": "white"
             }
            },
            "type": "table"
           }
          ]
         },
         "layout": {
          "annotationdefaults": {
           "arrowcolor": "#2a3f5f",
           "arrowhead": 0,
           "arrowwidth": 1
          },
          "autotypenumbers": "strict",
          "coloraxis": {
           "colorbar": {
            "outlinewidth": 0,
            "ticks": ""
           }
          },
          "colorscale": {
           "diverging": [
            [
             0,
             "#8e0152"
            ],
            [
             0.1,
             "#c51b7d"
            ],
            [
             0.2,
             "#de77ae"
            ],
            [
             0.3,
             "#f1b6da"
            ],
            [
             0.4,
             "#fde0ef"
            ],
            [
             0.5,
             "#f7f7f7"
            ],
            [
             0.6,
             "#e6f5d0"
            ],
            [
             0.7,
             "#b8e186"
            ],
            [
             0.8,
             "#7fbc41"
            ],
            [
             0.9,
             "#4d9221"
            ],
            [
             1,
             "#276419"
            ]
           ],
           "sequential": [
            [
             0,
             "#0d0887"
            ],
            [
             0.1111111111111111,
             "#46039f"
            ],
            [
             0.2222222222222222,
             "#7201a8"
            ],
            [
             0.3333333333333333,
             "#9c179e"
            ],
            [
             0.4444444444444444,
             "#bd3786"
            ],
            [
             0.5555555555555556,
             "#d8576b"
            ],
            [
             0.6666666666666666,
             "#ed7953"
            ],
            [
             0.7777777777777778,
             "#fb9f3a"
            ],
            [
             0.8888888888888888,
             "#fdca26"
            ],
            [
             1,
             "#f0f921"
            ]
           ],
           "sequentialminus": [
            [
             0,
             "#0d0887"
            ],
            [
             0.1111111111111111,
             "#46039f"
            ],
            [
             0.2222222222222222,
             "#7201a8"
            ],
            [
             0.3333333333333333,
             "#9c179e"
            ],
            [
             0.4444444444444444,
             "#bd3786"
            ],
            [
             0.5555555555555556,
             "#d8576b"
            ],
            [
             0.6666666666666666,
             "#ed7953"
            ],
            [
             0.7777777777777778,
             "#fb9f3a"
            ],
            [
             0.8888888888888888,
             "#fdca26"
            ],
            [
             1,
             "#f0f921"
            ]
           ]
          },
          "colorway": [
           "#636efa",
           "#EF553B",
           "#00cc96",
           "#ab63fa",
           "#FFA15A",
           "#19d3f3",
           "#FF6692",
           "#B6E880",
           "#FF97FF",
           "#FECB52"
          ],
          "font": {
           "color": "#2a3f5f"
          },
          "geo": {
           "bgcolor": "white",
           "lakecolor": "white",
           "landcolor": "#E5ECF6",
           "showlakes": true,
           "showland": true,
           "subunitcolor": "white"
          },
          "hoverlabel": {
           "align": "left"
          },
          "hovermode": "closest",
          "mapbox": {
           "style": "light"
          },
          "paper_bgcolor": "white",
          "plot_bgcolor": "#E5ECF6",
          "polar": {
           "angularaxis": {
            "gridcolor": "white",
            "linecolor": "white",
            "ticks": ""
           },
           "bgcolor": "#E5ECF6",
           "radialaxis": {
            "gridcolor": "white",
            "linecolor": "white",
            "ticks": ""
           }
          },
          "scene": {
           "xaxis": {
            "backgroundcolor": "#E5ECF6",
            "gridcolor": "white",
            "gridwidth": 2,
            "linecolor": "white",
            "showbackground": true,
            "ticks": "",
            "zerolinecolor": "white"
           },
           "yaxis": {
            "backgroundcolor": "#E5ECF6",
            "gridcolor": "white",
            "gridwidth": 2,
            "linecolor": "white",
            "showbackground": true,
            "ticks": "",
            "zerolinecolor": "white"
           },
           "zaxis": {
            "backgroundcolor": "#E5ECF6",
            "gridcolor": "white",
            "gridwidth": 2,
            "linecolor": "white",
            "showbackground": true,
            "ticks": "",
            "zerolinecolor": "white"
           }
          },
          "shapedefaults": {
           "line": {
            "color": "#2a3f5f"
           }
          },
          "ternary": {
           "aaxis": {
            "gridcolor": "white",
            "linecolor": "white",
            "ticks": ""
           },
           "baxis": {
            "gridcolor": "white",
            "linecolor": "white",
            "ticks": ""
           },
           "bgcolor": "#E5ECF6",
           "caxis": {
            "gridcolor": "white",
            "linecolor": "white",
            "ticks": ""
           }
          },
          "title": {
           "x": 0.05
          },
          "xaxis": {
           "automargin": true,
           "gridcolor": "white",
           "linecolor": "white",
           "ticks": "",
           "title": {
            "standoff": 15
           },
           "zerolinecolor": "white",
           "zerolinewidth": 2
          },
          "yaxis": {
           "automargin": true,
           "gridcolor": "white",
           "linecolor": "white",
           "ticks": "",
           "title": {
            "standoff": 15
           },
           "zerolinecolor": "white",
           "zerolinewidth": 2
          }
         }
        },
        "xaxis": {
         "anchor": "y",
         "domain": [
          0,
          1
         ],
         "title": {
          "text": "index"
         }
        },
        "yaxis": {
         "anchor": "x",
         "domain": [
          0,
          1
         ],
         "title": {
          "text": "value"
         }
        }
       }
      }
     },
     "metadata": {},
     "output_type": "display_data"
    }
   ],
   "source": [
    "feature_names = X_train2.columns\n",
    "\n",
    "coefs2 = pd.DataFrame(\n",
    "    model2.feature_importances_,\n",
    "    columns=[\"Coefficients\"],\n",
    "    index=feature_names,\n",
    ")\n",
    "features2=[]\n",
    "ft_importances2 = pd.Series(model2.feature_importances_, index = X_train2.columns.values).sort_values(ascending=False)\n",
    "\n",
    "for i,v in enumerate(ft_importances2):\n",
    "    features2.append ('Feature: %0d, Score: %.5f' %(i,v))\n",
    "xx2=pd.DataFrame(features2)\n",
    "\n",
    "fig2= px.bar(ft_importances2.head(100))\n",
    "fig2.show()\n",
    "\n",
    "train_importances2 = pd.DataFrame(\n",
    "    train_result2.importances[sorted_importances_idx2].T,\n",
    "    columns=X_train2.columns[sorted_importances_idx2],\n",
    ")\n",
    "test_importances2 = pd.DataFrame(\n",
    "    test_results2.importances[sorted_importances_idx2].T,\n",
    "    columns=X_train2.columns[sorted_importances_idx2],\n",
    ")\n",
    "\n",
    "# fig2.write_image(\"20250108_images/Important_Features_clin.png\")"
   ]
  },
  {
   "cell_type": "code",
   "execution_count": 86,
   "metadata": {},
   "outputs": [],
   "source": [
    "# train_importances2.to_csv ('20250108_clin_features_train_.csv', index=False)\n",
    "# coefs2.to_csv('20250108_clin_coefs_.csv',index=False)\n",
    "# test_importances2.to_csv('20250108_clin_features_test_2.csv', index=False)\n",
    "# ft_importances2.to_csv('20250108_clin_ft_importance_2.csv')\n"
   ]
  },
  {
   "cell_type": "code",
   "execution_count": null,
   "metadata": {},
   "outputs": [
    {
     "data": {
      "image/png": "[encoded data removed]",
      "text/plain": [
       "<Figure size 640x480 with 1 Axes>"
      ]
     },
     "metadata": {},
     "output_type": "display_data"
    }
   ],
   "source": [
    "#ROC for pipelines\n",
    "ax3 = plt.gca()\n",
    "rfc_disp2 = RocCurveDisplay.from_estimator(model2, X_test2, y_test2, ax=ax3, alpha=0.8)\n"
   ]
  },
  {
   "cell_type": "code",
   "execution_count": null,
   "metadata": {},
   "outputs": [],
   "source": [
    "# # save the clinical classification model as a pickle file\n",
    "# model2_pkl_file = \"20250108_CLIN_ETC_.pkl\"  \n",
    "\n",
    "# with open(model2_pkl_file, 'wb') as file2:  \n",
    "#     pickle.dump(model2, file2)"
   ]
  },
  {
   "cell_type": "code",
   "execution_count": 67,
   "metadata": {},
   "outputs": [],
   "source": [
    "M= pd.read_csv(\"CRvnoR_met_forfinal_.csv\") #metabolites\n",
    "Z3= pd.DataFrame(pd.read_csv(\"CRvnoR_met_forfinal.csv\")) #clinical features\n",
    "\n",
    "Z3['response'] = Z3['response'].replace('CR', 0).replace('NR', 1)\n",
    "y3 = Z3['response']\n",
    "X3 = M"
   ]
  },
  {
   "cell_type": "code",
   "execution_count": 68,
   "metadata": {},
   "outputs": [],
   "source": [
    "##Train/test\n",
    "X_train3, X_test3, y_train3, y_test3 = train_test_split(X3, y3,  test_size=(0.2), random_state=SEED,stratify=y3)\n"
   ]
  },
  {
   "cell_type": "code",
   "execution_count": null,
   "metadata": {},
   "outputs": [],
   "source": [
    "corr3 = spearmanr(X_train3).correlation\n",
    "# Ensure the correlation matrix is symmetric\n",
    "corr3 = (corr3 + corr3.T) / 2\n",
    "np.fill_diagonal(corr3, 1)\n",
    "\n",
    "# We convert the correlation matrix to a distance matrix before performing\n",
    "# hierarchical clustering using Ward's linkage.\n",
    "distance_matrix3 = 1 - np.abs(corr3)\n",
    "dist_linkage3 = hierarchy.ward(squareform(distance_matrix3))\n",
    "from collections import defaultdict\n",
    "\n",
    "cluster_ids3 = hierarchy.fcluster(dist_linkage3, 1, criterion=\"distance\")\n",
    "cluster_id_to_feature_ids3 = defaultdict(list)\n",
    "for idx3, cluster_id3 in enumerate(cluster_ids3):\n",
    "    cluster_id_to_feature_ids3[cluster_id3].append(idx3)\n",
    "selected_features3 = [v[0] for v in cluster_id_to_feature_ids3.values()]\n",
    "selected_features_names3 = X_train3.columns[selected_features3]\n",
    "\n",
    "# selected_features_names_CSV3=pd.DataFrame(selected_features_names3) ##Save the feature list\n",
    "# selected_features_names_CSV3.to_csv(\"20250210_pruned_features_met.csv\")\n",
    "\n",
    "selected_features_names_CSV3=open(\"20250210_pruned_features_met.csv\", 'r')\n",
    "file3=csv.DictReader(selected_features_names_CSV3)\n",
    "pruned_features3= []\n",
    "for col in file3:\n",
    "    pruned_features3.append(col['0'])\n",
    "\n",
    "selected_features= X[pruned_features]\n",
    "selected_features_names = selected_features.columns.tolist()"
   ]
  },
  {
   "cell_type": "code",
   "execution_count": 86,
   "metadata": {},
   "outputs": [],
   "source": [
    "X_train_sel3 = X_train3[selected_features_names3]\n",
    "X_test_sel3 = X_test3[selected_features_names3]\n",
    "\n",
    "X_resampled3, y_resampled3 = smote.fit_resample(\n",
    "    X_train_sel3, y_train3)"
   ]
  },
  {
   "cell_type": "code",
   "execution_count": null,
   "metadata": {},
   "outputs": [],
   "source": [
    "# parameter search and scoring\n",
    "rfc_10 = RandomizedSearchCV(estimator=rfc, param_distributions=param_rfc, cv=inner_cv, refit=True, scoring='f1')\n",
    "rfc_10.fit(X_resampled3, y_resampled3)\n",
    "non_nested_scores_rfc10 = rfc_10.best_score_\n",
    "nested_score_rfc10 = cross_val_score(rfc_10, X_resampled3, y_resampled3, cv=outer_cv, scoring='f1')\n",
    "\n",
    "\n",
    "rfc_20 = RandomizedSearchCV(estimator=etc, param_distributions=param_rfc, cv=inner_cv, refit=True, scoring='f1')\n",
    "rfc_20.fit(X_resampled3, y_resampled3)\n",
    "non_nested_scores_rfc20 = rfc_20.best_score_\n",
    "nested_score_rfc20 = cross_val_score(rfc_20, X_resampled3, y_resampled3, cv=outer_cv, scoring='f1')\n",
    "\n",
    "\n",
    "rfc_30 = RandomizedSearchCV(estimator=gbc, param_distributions=param_rfc2, cv=inner_cv, refit=True, scoring='f1')\n",
    "rfc_30.fit(X_resampled3, y_resampled3)\n",
    "non_nested_scores_rfc30 = rfc_3.best_score_\n",
    "nested_score_rfc30 = cross_val_score(rfc_30, X_resampled3, y_resampled3, cv=outer_cv, scoring='f1')\n",
    "\n",
    "\n",
    "xgb_m = XGBClassifier(random_state=0)\n",
    "xgb_10 = RandomizedSearchCV(estimator=xgb_m, param_distributions=param_xgb, cv=inner_cv, refit=True, scoring='f1')\n",
    "xgb_10.fit(X_resampled3, y_resampled3)\n",
    "nested_score_xgb10= cross_val_score(xgb_10, X_resampled3, y_resampled3, cv=outer_cv, scoring='f1')\n",
    "\n",
    "\n",
    "sgb_10 = GridSearchCV(estimator=sgd, param_grid=param_sgd, cv=inner_cv, refit=True, scoring='f1')\n",
    "sgb_10.fit(X_resampled3, y_resampled3)\n",
    "nested_score_sgb10= cross_val_score(sgb_10, X_resampled3, y_resampled3, cv=outer_cv, scoring='f1')\n",
    "\n",
    "\n",
    "lrm_10 = GridSearchCV(estimator=lrm, param_grid=param_lrm2, cv=inner_cv, refit=True, scoring='f1')\n",
    "nested_score_lrm10 = cross_val_score(lrm_10, X_resampled3, y_resampled3, cv=outer_cv, scoring='f1')\n",
    "print(\"done\")\n",
    "\n",
    "##37 mins"
   ]
  },
  {
   "cell_type": "code",
   "execution_count": null,
   "metadata": {},
   "outputs": [
    {
     "name": "stdout",
     "output_type": "stream",
     "text": [
      "(0.8193752023117986, 0.8616591310473402, 0.7934412869090288, 0.4618696485968181, 0.8360691111817363, 0.720264109659549)\n"
     ]
    }
   ],
   "source": [
    "bench3 = (nested_score_rfc10.mean(), nested_score_rfc20.mean(), nested_score_rfc30.mean(), nested_score_sgb10.mean(), nested_score_xgb10.mean(), nested_score_lrm10.mean())\n",
    "print (bench3)\n",
    "\n",
    "##Last results(0.8193752023117986, 0.8616591310473402, 0.7934412869090288, 0.4618696485968181, 0.8360691111817363, 0.720264109659549)"
   ]
  },
  {
   "cell_type": "code",
   "execution_count": null,
   "metadata": {},
   "outputs": [
    {
     "data": {
      "text/html": [
       "<style>#sk-container-id-1 {color: black;background-color: white;}#sk-container-id-1 pre{padding: 0;}#sk-container-id-1 div.sk-toggleable {background-color: white;}#sk-container-id-1 label.sk-toggleable__label {cursor: pointer;display: block;width: 100%;margin-bottom: 0;padding: 0.3em;box-sizing: border-box;text-align: center;}#sk-container-id-1 label.sk-toggleable__label-arrow:before {content: \"▸\";float: left;margin-right: 0.25em;color: #696969;}#sk-container-id-1 label.sk-toggleable__label-arrow:hover:before {color: black;}#sk-container-id-1 div.sk-estimator:hover label.sk-toggleable__label-arrow:before {color: black;}#sk-container-id-1 div.sk-toggleable__content {max-height: 0;max-width: 0;overflow: hidden;text-align: left;background-color: #f0f8ff;}#sk-container-id-1 div.sk-toggleable__content pre {margin: 0.2em;color: black;border-radius: 0.25em;background-color: #f0f8ff;}#sk-container-id-1 input.sk-toggleable__control:checked~div.sk-toggleable__content {max-height: 200px;max-width: 100%;overflow: auto;}#sk-container-id-1 input.sk-toggleable__control:checked~label.sk-toggleable__label-arrow:before {content: \"▾\";}#sk-container-id-1 div.sk-estimator input.sk-toggleable__control:checked~label.sk-toggleable__label {background-color: #d4ebff;}#sk-container-id-1 div.sk-label input.sk-toggleable__control:checked~label.sk-toggleable__label {background-color: #d4ebff;}#sk-container-id-1 input.sk-hidden--visually {border: 0;clip: rect(1px 1px 1px 1px);clip: rect(1px, 1px, 1px, 1px);height: 1px;margin: -1px;overflow: hidden;padding: 0;position: absolute;width: 1px;}#sk-container-id-1 div.sk-estimator {font-family: monospace;background-color: #f0f8ff;border: 1px dotted black;border-radius: 0.25em;box-sizing: border-box;margin-bottom: 0.5em;}#sk-container-id-1 div.sk-estimator:hover {background-color: #d4ebff;}#sk-container-id-1 div.sk-parallel-item::after {content: \"\";width: 100%;border-bottom: 1px solid gray;flex-grow: 1;}#sk-container-id-1 div.sk-label:hover label.sk-toggleable__label {background-color: #d4ebff;}#sk-container-id-1 div.sk-serial::before {content: \"\";position: absolute;border-left: 1px solid gray;box-sizing: border-box;top: 0;bottom: 0;left: 50%;z-index: 0;}#sk-container-id-1 div.sk-serial {display: flex;flex-direction: column;align-items: center;background-color: white;padding-right: 0.2em;padding-left: 0.2em;position: relative;}#sk-container-id-1 div.sk-item {position: relative;z-index: 1;}#sk-container-id-1 div.sk-parallel {display: flex;align-items: stretch;justify-content: center;background-color: white;position: relative;}#sk-container-id-1 div.sk-item::before, #sk-container-id-1 div.sk-parallel-item::before {content: \"\";position: absolute;border-left: 1px solid gray;box-sizing: border-box;top: 0;bottom: 0;left: 50%;z-index: -1;}#sk-container-id-1 div.sk-parallel-item {display: flex;flex-direction: column;z-index: 1;position: relative;background-color: white;}#sk-container-id-1 div.sk-parallel-item:first-child::after {align-self: flex-end;width: 50%;}#sk-container-id-1 div.sk-parallel-item:last-child::after {align-self: flex-start;width: 50%;}#sk-container-id-1 div.sk-parallel-item:only-child::after {width: 0;}#sk-container-id-1 div.sk-dashed-wrapped {border: 1px dashed gray;margin: 0 0.4em 0.5em 0.4em;box-sizing: border-box;padding-bottom: 0.4em;background-color: white;}#sk-container-id-1 div.sk-label label {font-family: monospace;font-weight: bold;display: inline-block;line-height: 1.2em;}#sk-container-id-1 div.sk-label-container {text-align: center;}#sk-container-id-1 div.sk-container {/* jupyter's `normalize.less` sets `[hidden] { display: none; }` but bootstrap.min.css set `[hidden] { display: none !important; }` so we also need the `!important` here to be able to override the default hidden behavior on the sphinx rendered scikit-learn.org. See: https://github.com/scikit-learn/scikit-learn/issues/21755 */display: inline-block !important;position: relative;}#sk-container-id-1 div.sk-text-repr-fallback {display: none;}</style><div id=\"sk-container-id-1\" class=\"sk-top-container\"><div class=\"sk-text-repr-fallback\"><pre>ExtraTreesClassifier(bootstrap=True, ccp_alpha=0.0025, max_depth=5,\n",
       "                     max_features=None, max_leaf_nodes=50, n_estimators=150,\n",
       "                     random_state=0, warm_start=True)</pre><b>In a Jupyter environment, please rerun this cell to show the HTML representation or trust the notebook. <br />On GitHub, the HTML representation is unable to render, please try loading this page with nbviewer.org.</b></div><div class=\"sk-container\" hidden><div class=\"sk-item\"><div class=\"sk-estimator sk-toggleable\"><input class=\"sk-toggleable__control sk-hidden--visually\" id=\"sk-estimator-id-1\" type=\"checkbox\" checked><label for=\"sk-estimator-id-1\" class=\"sk-toggleable__label sk-toggleable__label-arrow\">ExtraTreesClassifier</label><div class=\"sk-toggleable__content\"><pre>ExtraTreesClassifier(bootstrap=True, ccp_alpha=0.0025, max_depth=5,\n",
       "                     max_features=None, max_leaf_nodes=50, n_estimators=150,\n",
       "                     random_state=0, warm_start=True)</pre></div></div></div></div></div>"
      ],
      "text/plain": [
       "ExtraTreesClassifier(bootstrap=True, ccp_alpha=0.0025, max_depth=5,\n",
       "                     max_features=None, max_leaf_nodes=50, n_estimators=150,\n",
       "                     random_state=0, warm_start=True)"
      ]
     },
     "execution_count": 24,
     "metadata": {},
     "output_type": "execute_result"
    }
   ],
   "source": [
    "##paramater tuning \n",
    "rfc_20.best_estimator_\n",
    "\n",
    "##Results Jan 8 ExtraTreesClassifier(bootstrap=True, ccp_alpha=0.0025, max_depth=5,\n",
    "                    #  max_features=None, max_leaf_nodes=50, n_estimators=150,\n",
    "                    #  random_state=0, warm_start=True)"
   ]
  },
  {
   "cell_type": "code",
   "execution_count": 119,
   "metadata": {},
   "outputs": [
    {
     "name": "stdout",
     "output_type": "stream",
     "text": [
      "              precision    recall  f1-score   support\n",
      "\n",
      "           0       0.85      0.81      0.83        36\n",
      "           1       0.46      0.55      0.50        11\n",
      "\n",
      "    accuracy                           0.74        47\n",
      "   macro avg       0.66      0.68      0.66        47\n",
      "weighted avg       0.76      0.74      0.75        47\n",
      "\n"
     ]
    }
   ],
   "source": [
    "# model3=ExtraTreesClassifier(bootstrap=True, ccp_alpha=0.0025, max_depth=5,\n",
    "#                      max_features=None, max_leaf_nodes=50, n_estimators=150,\n",
    "#                      random_state=0, warm_start=True)\n",
    "# model3.fit(X_resampled3, y_resampled3)\n",
    "\n",
    "# load model from pickle file\n",
    "model3_pkl_file = \"20250221_METABOLITE_ETC.pkl\"  \n",
    "\n",
    "with open(model3_pkl_file, 'rb') as file3:  \n",
    "    model3 = pickle.load(file3)\n",
    "\n",
    "# evaluate model \n",
    "y_predict3= model3.predict(X_test_sel3)\n",
    "\n",
    "# check results\n",
    "print(classification_report(y_test3, y_predict3))"
   ]
  },
  {
   "cell_type": "code",
   "execution_count": 121,
   "metadata": {},
   "outputs": [],
   "source": [
    "\n",
    "train_result3 = permutation_importance(\n",
    "     model3, X_resampled3, y_resampled3, n_repeats=30, random_state=SEED, n_jobs=2\n",
    ")\n",
    "test_results3 = permutation_importance(\n",
    "    model3,X_test_sel3, y_test3, n_repeats=30, random_state=SEED, n_jobs=2\n",
    ")\n",
    "sorted_importances_idx3 = train_result3.importances_mean.argsort()"
   ]
  },
  {
   "cell_type": "code",
   "execution_count": 122,
   "metadata": {},
   "outputs": [
    {
     "data": {
      "application/vnd.plotly.v1+json": {
       "config": {
        "plotlyServerURL": "https://plot.ly"
       },
       "data": [
        {
         "alignmentgroup": "True",
         "hovertemplate": "variable=0<br>index=%{x}<br>value=%{y}<extra></extra>",
         "legendgroup": "0",
         "marker": {
          "color": "#636efa",
          "pattern": {
           "shape": ""
          }
         },
         "name": "0",
         "offsetgroup": "0",
         "orientation": "v",
         "showlegend": true,
         "textposition": "auto",
         "type": "bar",
         "x": [
          "Pantetheine",
          "Allantoate",
          "Hypoxanthine",
          "X2..3..Cyclic.CMP",
          "L.alanine",
          "L.tryptophan",
          "L.cysteine",
          "X5.Hydroxyindoleacetate",
          "L.cystine",
          "Dopamine",
          "acetyl.carnitine..acyl.C2.",
          "IDP",
          "acyl.C18.2..Linoleoyl.CoA.",
          "Creatinine",
          "L.glutamate",
          "L.leucine.isoleucine",
          "L.aspartate",
          "Hexadecanoic.acid..palmitic.acid.",
          "X5.Hydroxyisourate",
          "X3.Sulfocatechol",
          "gamma.L.Glutamyl.D.alanine",
          "alpha.D.Glucosamine.1.phosphate",
          "Pantothenol",
          "NADP.",
          "Hydroxyindole.acetylglycine",
          "L.phenylalanine",
          "X5.6.Dihydrothymine",
          "Adenylosuccinic.acid",
          "Citrate",
          "X4.Acetamidobutanoate",
          "ADP",
          "dAMP",
          "Dodecanoic.acid..lauric.acid.",
          "Cytidine",
          "Pyridoxamine.5..phosphate",
          "Spermidine"
         ],
         "xaxis": "x",
         "y": [
          0.06583556844728497,
          0.05517419126999519,
          0.05198947734831823,
          0.04636418051317335,
          0.04199840819208613,
          0.036998715170899046,
          0.03657840518104666,
          0.03611483147515846,
          0.03602938568720148,
          0.03534700296789409,
          0.03265935801725534,
          0.029733998267508655,
          0.02918583045874178,
          0.028761141597297826,
          0.02867191200400385,
          0.028023423790529325,
          0.02757588509440974,
          0.027406714305279824,
          0.026818611894911703,
          0.025224042004306828,
          0.02379979031088115,
          0.022824745862848096,
          0.02163166020260222,
          0.021606388493633076,
          0.019724534327228406,
          0.019524939308419618,
          0.019364642643970854,
          0.018392943899144285,
          0.017556467399232015,
          0.015673174867738976,
          0.015113745339782709,
          0.014971890168552082,
          0.013841296132982472,
          0.013770225861412418,
          0.007919222324334679,
          0.007793249169934469
         ],
         "yaxis": "y"
        }
       ],
       "layout": {
        "barmode": "relative",
        "legend": {
         "title": {
          "text": "variable"
         },
         "tracegroupgap": 0
        },
        "margin": {
         "t": 60
        },
        "template": {
         "data": {
          "bar": [
           {
            "error_x": {
             "color": "#2a3f5f"
            },
            "error_y": {
             "color": "#2a3f5f"
            },
            "marker": {
             "line": {
              "color": "#E5ECF6",
              "width": 0.5
             },
             "pattern": {
              "fillmode": "overlay",
              "size": 10,
              "solidity": 0.2
             }
            },
            "type": "bar"
           }
          ],
          "barpolar": [
           {
            "marker": {
             "line": {
              "color": "#E5ECF6",
              "width": 0.5
             },
             "pattern": {
              "fillmode": "overlay",
              "size": 10,
              "solidity": 0.2
             }
            },
            "type": "barpolar"
           }
          ],
          "carpet": [
           {
            "aaxis": {
             "endlinecolor": "#2a3f5f",
             "gridcolor": "white",
             "linecolor": "white",
             "minorgridcolor": "white",
             "startlinecolor": "#2a3f5f"
            },
            "baxis": {
             "endlinecolor": "#2a3f5f",
             "gridcolor": "white",
             "linecolor": "white",
             "minorgridcolor": "white",
             "startlinecolor": "#2a3f5f"
            },
            "type": "carpet"
           }
          ],
          "choropleth": [
           {
            "colorbar": {
             "outlinewidth": 0,
             "ticks": ""
            },
            "type": "choropleth"
           }
          ],
          "contour": [
           {
            "colorbar": {
             "outlinewidth": 0,
             "ticks": ""
            },
            "colorscale": [
             [
              0,
              "#0d0887"
             ],
             [
              0.1111111111111111,
              "#46039f"
             ],
             [
              0.2222222222222222,
              "#7201a8"
             ],
             [
              0.3333333333333333,
              "#9c179e"
             ],
             [
              0.4444444444444444,
              "#bd3786"
             ],
             [
              0.5555555555555556,
              "#d8576b"
             ],
             [
              0.6666666666666666,
              "#ed7953"
             ],
             [
              0.7777777777777778,
              "#fb9f3a"
             ],
             [
              0.8888888888888888,
              "#fdca26"
             ],
             [
              1,
              "#f0f921"
             ]
            ],
            "type": "contour"
           }
          ],
          "contourcarpet": [
           {
            "colorbar": {
             "outlinewidth": 0,
             "ticks": ""
            },
            "type": "contourcarpet"
           }
          ],
          "heatmap": [
           {
            "colorbar": {
             "outlinewidth": 0,
             "ticks": ""
            },
            "colorscale": [
             [
              0,
              "#0d0887"
             ],
             [
              0.1111111111111111,
              "#46039f"
             ],
             [
              0.2222222222222222,
              "#7201a8"
             ],
             [
              0.3333333333333333,
              "#9c179e"
             ],
             [
              0.4444444444444444,
              "#bd3786"
             ],
             [
              0.5555555555555556,
              "#d8576b"
             ],
             [
              0.6666666666666666,
              "#ed7953"
             ],
             [
              0.7777777777777778,
              "#fb9f3a"
             ],
             [
              0.8888888888888888,
              "#fdca26"
             ],
             [
              1,
              "#f0f921"
             ]
            ],
            "type": "heatmap"
           }
          ],
          "heatmapgl": [
           {
            "colorbar": {
             "outlinewidth": 0,
             "ticks": ""
            },
            "colorscale": [
             [
              0,
              "#0d0887"
             ],
             [
              0.1111111111111111,
              "#46039f"
             ],
             [
              0.2222222222222222,
              "#7201a8"
             ],
             [
              0.3333333333333333,
              "#9c179e"
             ],
             [
              0.4444444444444444,
              "#bd3786"
             ],
             [
              0.5555555555555556,
              "#d8576b"
             ],
             [
              0.6666666666666666,
              "#ed7953"
             ],
             [
              0.7777777777777778,
              "#fb9f3a"
             ],
             [
              0.8888888888888888,
              "#fdca26"
             ],
             [
              1,
              "#f0f921"
             ]
            ],
            "type": "heatmapgl"
           }
          ],
          "histogram": [
           {
            "marker": {
             "pattern": {
              "fillmode": "overlay",
              "size": 10,
              "solidity": 0.2
             }
            },
            "type": "histogram"
           }
          ],
          "histogram2d": [
           {
            "colorbar": {
             "outlinewidth": 0,
             "ticks": ""
            },
            "colorscale": [
             [
              0,
              "#0d0887"
             ],
             [
              0.1111111111111111,
              "#46039f"
             ],
             [
              0.2222222222222222,
              "#7201a8"
             ],
             [
              0.3333333333333333,
              "#9c179e"
             ],
             [
              0.4444444444444444,
              "#bd3786"
             ],
             [
              0.5555555555555556,
              "#d8576b"
             ],
             [
              0.6666666666666666,
              "#ed7953"
             ],
             [
              0.7777777777777778,
              "#fb9f3a"
             ],
             [
              0.8888888888888888,
              "#fdca26"
             ],
             [
              1,
              "#f0f921"
             ]
            ],
            "type": "histogram2d"
           }
          ],
          "histogram2dcontour": [
           {
            "colorbar": {
             "outlinewidth": 0,
             "ticks": ""
            },
            "colorscale": [
             [
              0,
              "#0d0887"
             ],
             [
              0.1111111111111111,
              "#46039f"
             ],
             [
              0.2222222222222222,
              "#7201a8"
             ],
             [
              0.3333333333333333,
              "#9c179e"
             ],
             [
              0.4444444444444444,
              "#bd3786"
             ],
             [
              0.5555555555555556,
              "#d8576b"
             ],
             [
              0.6666666666666666,
              "#ed7953"
             ],
             [
              0.7777777777777778,
              "#fb9f3a"
             ],
             [
              0.8888888888888888,
              "#fdca26"
             ],
             [
              1,
              "#f0f921"
             ]
            ],
            "type": "histogram2dcontour"
           }
          ],
          "mesh3d": [
           {
            "colorbar": {
             "outlinewidth": 0,
             "ticks": ""
            },
            "type": "mesh3d"
           }
          ],
          "parcoords": [
           {
            "line": {
             "colorbar": {
              "outlinewidth": 0,
              "ticks": ""
             }
            },
            "type": "parcoords"
           }
          ],
          "pie": [
           {
            "automargin": true,
            "type": "pie"
           }
          ],
          "scatter": [
           {
            "fillpattern": {
             "fillmode": "overlay",
             "size": 10,
             "solidity": 0.2
            },
            "type": "scatter"
           }
          ],
          "scatter3d": [
           {
            "line": {
             "colorbar": {
              "outlinewidth": 0,
              "ticks": ""
             }
            },
            "marker": {
             "colorbar": {
              "outlinewidth": 0,
              "ticks": ""
             }
            },
            "type": "scatter3d"
           }
          ],
          "scattercarpet": [
           {
            "marker": {
             "colorbar": {
              "outlinewidth": 0,
              "ticks": ""
             }
            },
            "type": "scattercarpet"
           }
          ],
          "scattergeo": [
           {
            "marker": {
             "colorbar": {
              "outlinewidth": 0,
              "ticks": ""
             }
            },
            "type": "scattergeo"
           }
          ],
          "scattergl": [
           {
            "marker": {
             "colorbar": {
              "outlinewidth": 0,
              "ticks": ""
             }
            },
            "type": "scattergl"
           }
          ],
          "scattermapbox": [
           {
            "marker": {
             "colorbar": {
              "outlinewidth": 0,
              "ticks": ""
             }
            },
            "type": "scattermapbox"
           }
          ],
          "scatterpolar": [
           {
            "marker": {
             "colorbar": {
              "outlinewidth": 0,
              "ticks": ""
             }
            },
            "type": "scatterpolar"
           }
          ],
          "scatterpolargl": [
           {
            "marker": {
             "colorbar": {
              "outlinewidth": 0,
              "ticks": ""
             }
            },
            "type": "scatterpolargl"
           }
          ],
          "scatterternary": [
           {
            "marker": {
             "colorbar": {
              "outlinewidth": 0,
              "ticks": ""
             }
            },
            "type": "scatterternary"
           }
          ],
          "surface": [
           {
            "colorbar": {
             "outlinewidth": 0,
             "ticks": ""
            },
            "colorscale": [
             [
              0,
              "#0d0887"
             ],
             [
              0.1111111111111111,
              "#46039f"
             ],
             [
              0.2222222222222222,
              "#7201a8"
             ],
             [
              0.3333333333333333,
              "#9c179e"
             ],
             [
              0.4444444444444444,
              "#bd3786"
             ],
             [
              0.5555555555555556,
              "#d8576b"
             ],
             [
              0.6666666666666666,
              "#ed7953"
             ],
             [
              0.7777777777777778,
              "#fb9f3a"
             ],
             [
              0.8888888888888888,
              "#fdca26"
             ],
             [
              1,
              "#f0f921"
             ]
            ],
            "type": "surface"
           }
          ],
          "table": [
           {
            "cells": {
             "fill": {
              "color": "#EBF0F8"
             },
             "line": {
              "color": "white"
             }
            },
            "header": {
             "fill": {
              "color": "#C8D4E3"
             },
             "line": {
              "color": "white"
             }
            },
            "type": "table"
           }
          ]
         },
         "layout": {
          "annotationdefaults": {
           "arrowcolor": "#2a3f5f",
           "arrowhead": 0,
           "arrowwidth": 1
          },
          "autotypenumbers": "strict",
          "coloraxis": {
           "colorbar": {
            "outlinewidth": 0,
            "ticks": ""
           }
          },
          "colorscale": {
           "diverging": [
            [
             0,
             "#8e0152"
            ],
            [
             0.1,
             "#c51b7d"
            ],
            [
             0.2,
             "#de77ae"
            ],
            [
             0.3,
             "#f1b6da"
            ],
            [
             0.4,
             "#fde0ef"
            ],
            [
             0.5,
             "#f7f7f7"
            ],
            [
             0.6,
             "#e6f5d0"
            ],
            [
             0.7,
             "#b8e186"
            ],
            [
             0.8,
             "#7fbc41"
            ],
            [
             0.9,
             "#4d9221"
            ],
            [
             1,
             "#276419"
            ]
           ],
           "sequential": [
            [
             0,
             "#0d0887"
            ],
            [
             0.1111111111111111,
             "#46039f"
            ],
            [
             0.2222222222222222,
             "#7201a8"
            ],
            [
             0.3333333333333333,
             "#9c179e"
            ],
            [
             0.4444444444444444,
             "#bd3786"
            ],
            [
             0.5555555555555556,
             "#d8576b"
            ],
            [
             0.6666666666666666,
             "#ed7953"
            ],
            [
             0.7777777777777778,
             "#fb9f3a"
            ],
            [
             0.8888888888888888,
             "#fdca26"
            ],
            [
             1,
             "#f0f921"
            ]
           ],
           "sequentialminus": [
            [
             0,
             "#0d0887"
            ],
            [
             0.1111111111111111,
             "#46039f"
            ],
            [
             0.2222222222222222,
             "#7201a8"
            ],
            [
             0.3333333333333333,
             "#9c179e"
            ],
            [
             0.4444444444444444,
             "#bd3786"
            ],
            [
             0.5555555555555556,
             "#d8576b"
            ],
            [
             0.6666666666666666,
             "#ed7953"
            ],
            [
             0.7777777777777778,
             "#fb9f3a"
            ],
            [
             0.8888888888888888,
             "#fdca26"
            ],
            [
             1,
             "#f0f921"
            ]
           ]
          },
          "colorway": [
           "#636efa",
           "#EF553B",
           "#00cc96",
           "#ab63fa",
           "#FFA15A",
           "#19d3f3",
           "#FF6692",
           "#B6E880",
           "#FF97FF",
           "#FECB52"
          ],
          "font": {
           "color": "#2a3f5f"
          },
          "geo": {
           "bgcolor": "white",
           "lakecolor": "white",
           "landcolor": "#E5ECF6",
           "showlakes": true,
           "showland": true,
           "subunitcolor": "white"
          },
          "hoverlabel": {
           "align": "left"
          },
          "hovermode": "closest",
          "mapbox": {
           "style": "light"
          },
          "paper_bgcolor": "white",
          "plot_bgcolor": "#E5ECF6",
          "polar": {
           "angularaxis": {
            "gridcolor": "white",
            "linecolor": "white",
            "ticks": ""
           },
           "bgcolor": "#E5ECF6",
           "radialaxis": {
            "gridcolor": "white",
            "linecolor": "white",
            "ticks": ""
           }
          },
          "scene": {
           "xaxis": {
            "backgroundcolor": "#E5ECF6",
            "gridcolor": "white",
            "gridwidth": 2,
            "linecolor": "white",
            "showbackground": true,
            "ticks": "",
            "zerolinecolor": "white"
           },
           "yaxis": {
            "backgroundcolor": "#E5ECF6",
            "gridcolor": "white",
            "gridwidth": 2,
            "linecolor": "white",
            "showbackground": true,
            "ticks": "",
            "zerolinecolor": "white"
           },
           "zaxis": {
            "backgroundcolor": "#E5ECF6",
            "gridcolor": "white",
            "gridwidth": 2,
            "linecolor": "white",
            "showbackground": true,
            "ticks": "",
            "zerolinecolor": "white"
           }
          },
          "shapedefaults": {
           "line": {
            "color": "#2a3f5f"
           }
          },
          "ternary": {
           "aaxis": {
            "gridcolor": "white",
            "linecolor": "white",
            "ticks": ""
           },
           "baxis": {
            "gridcolor": "white",
            "linecolor": "white",
            "ticks": ""
           },
           "bgcolor": "#E5ECF6",
           "caxis": {
            "gridcolor": "white",
            "linecolor": "white",
            "ticks": ""
           }
          },
          "title": {
           "x": 0.05
          },
          "xaxis": {
           "automargin": true,
           "gridcolor": "white",
           "linecolor": "white",
           "ticks": "",
           "title": {
            "standoff": 15
           },
           "zerolinecolor": "white",
           "zerolinewidth": 2
          },
          "yaxis": {
           "automargin": true,
           "gridcolor": "white",
           "linecolor": "white",
           "ticks": "",
           "title": {
            "standoff": 15
           },
           "zerolinecolor": "white",
           "zerolinewidth": 2
          }
         }
        },
        "xaxis": {
         "anchor": "y",
         "domain": [
          0,
          1
         ],
         "title": {
          "text": "index"
         }
        },
        "yaxis": {
         "anchor": "x",
         "domain": [
          0,
          1
         ],
         "title": {
          "text": "value"
         }
        }
       }
      }
     },
     "metadata": {},
     "output_type": "display_data"
    }
   ],
   "source": [
    "feature_names3 = X_resampled3.columns\n",
    "\n",
    "coefs3 = pd.DataFrame(\n",
    "    model3.feature_importances_,\n",
    "    columns=[\"Coefficients\"],\n",
    "    index=feature_names3,\n",
    ")\n",
    "features3=[]\n",
    "ft_importances3 = pd.Series(model3.feature_importances_, index = X_train_sel3.columns.values).sort_values(ascending=False)\n",
    "\n",
    "for i,v in enumerate(ft_importances3):\n",
    "    features3.append ('Feature: %0d, Score: %.5f' %(i,v))\n",
    "xx3=pd.DataFrame(features3)\n",
    "\n",
    "fig2= px.bar(ft_importances3.head(100))\n",
    "fig2.show()\n",
    "\n",
    "train_importances3 = pd.DataFrame(\n",
    "    train_result3.importances[sorted_importances_idx3].T,\n",
    "    columns=X3.columns[sorted_importances_idx3],\n",
    ")\n",
    "test_importances3 = pd.DataFrame(\n",
    "    test_results3.importances[sorted_importances_idx3].T,\n",
    "    columns=X3.columns[sorted_importances_idx3],\n",
    ")\n",
    "\n",
    "\n",
    "# fig2.write_image(\"20250108_images/Important_Features_met.png\")"
   ]
  },
  {
   "cell_type": "code",
   "execution_count": 120,
   "metadata": {},
   "outputs": [
    {
     "data": {
      "image/png": "[encoded data removed]",
      "text/plain": [
       "<Figure size 640x480 with 1 Axes>"
      ]
     },
     "metadata": {},
     "output_type": "display_data"
    }
   ],
   "source": [
    "#ROC for pipelines\n",
    "\n",
    "fig7, ax3 = plt.subplots()\n",
    "ax3 = plt.gca()\n",
    "rfc_disp = RocCurveDisplay.from_estimator(model, X_test_sel, y_test, ax=ax3, alpha=0.8,name='Lipid Features')\n",
    "rfc_disp3 = RocCurveDisplay.from_estimator(model3, X_test_sel3, y_test3, ax=ax3, alpha=0.8, name='Metabolic Features')\n",
    "rfc_disp2 = RocCurveDisplay.from_estimator(model2, X_test2, y_test2, ax=ax3, alpha=0.8, name='Clinical Features')\n",
    "rfc_disp2 = RocCurveDisplay.from_estimator(model1A, XA_test_sel, yA_test, ax=ax3, alpha=0.8, name='Lipid and Clinical Features')\n",
    "# fig7.savefig(\"20250108_images/ROC_lip_met_clin_lipplusclin.png\")\n"
   ]
  },
  {
   "cell_type": "code",
   "execution_count": null,
   "metadata": {},
   "outputs": [],
   "source": [
    "# save the metabolite classification model as a pickle file\n",
    "# model3_pkl_file = \"20250221_METABOLITE_ETC.pkl\"  \n",
    "\n",
    "# with open(model3_pkl_file, 'wb') as file3:  \n",
    "#     pickle.dump(model3, file3)\n"
   ]
  },
  {
   "cell_type": "code",
   "execution_count": 55,
   "metadata": {},
   "outputs": [],
   "source": [
    "# train_importances3.to_csv ('20250108_met_features_train_.csv', index=False)\n",
    "# coefs3.to_csv('20250108_met_coefs_.csv',index=False)\n",
    "# test_importances3.to_csv('20250108_met_features_test_2.csv', index=False)\n",
    "# ft_importances3.to_csv('20250108_met_ft_importance_2.csv')"
   ]
  }
 ],
 "metadata": {
  "kernelspec": {
   "display_name": "base",
   "language": "python",
   "name": "python3"
  },
  "language_info": {
   "codemirror_mode": {
    "name": "ipython",
    "version": 3
   },
   "file_extension": ".py",
   "mimetype": "text/x-python",
   "name": "python",
   "nbconvert_exporter": "python",
   "pygments_lexer": "ipython3",
   "version": "3.11.5"
  }
 },
 "nbformat": 4,
 "nbformat_minor": 2
}
